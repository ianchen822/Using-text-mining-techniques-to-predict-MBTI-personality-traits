{
  "cells": [
    {
      "cell_type": "markdown",
      "source": [
        "## Load Data"
      ],
      "metadata": {
        "id": "EYxNxh5TWoUk"
      },
      "id": "EYxNxh5TWoUk"
    },
    {
      "cell_type": "code",
      "source": [
        "from google.colab import drive\n",
        "drive.mount('/content/drive')"
      ],
      "metadata": {
        "colab": {
          "base_uri": "https://localhost:8080/"
        },
        "id": "woX02QJnXSy6",
        "outputId": "df113656-3e67-4613-ad37-c02a074999aa"
      },
      "id": "woX02QJnXSy6",
      "execution_count": 2,
      "outputs": [
        {
          "output_type": "stream",
          "name": "stdout",
          "text": [
            "Mounted at /content/drive\n"
          ]
        }
      ]
    },
    {
      "cell_type": "code",
      "source": [
        "import pandas as pd\n",
        "import numpy as np"
      ],
      "metadata": {
        "id": "QJeZeFGFtUPl"
      },
      "id": "QJeZeFGFtUPl",
      "execution_count": 3,
      "outputs": []
    },
    {
      "cell_type": "code",
      "source": [
        "folderPath = '/content/drive/My Drive/Colab Notebooks/文字探勘初論/'"
      ],
      "metadata": {
        "id": "Qm78tFp8XVlM"
      },
      "id": "Qm78tFp8XVlM",
      "execution_count": 8,
      "outputs": []
    },
    {
      "cell_type": "code",
      "source": [
        "tfidf_corpus = pd.read_csv(folderPath+'mbti_tfidf.csv')\n",
        "word2vec_corpus = pd.read_csv(folderPath+'MBTI_w2v.csv')\n",
        "bert_corpus = pd.read_csv(folderPath+'mbti_bert_CLS.csv')"
      ],
      "metadata": {
        "id": "B1i6h7UnjOjB"
      },
      "id": "B1i6h7UnjOjB",
      "execution_count": 118,
      "outputs": []
    },
    {
      "cell_type": "code",
      "source": [
        "tfidf_corpus.head()"
      ],
      "metadata": {
        "colab": {
          "base_uri": "https://localhost:8080/",
          "height": 235
        },
        "id": "u3e89qvLuAfd",
        "outputId": "34571c23-e1a0-472d-9847-3ee3034518ea"
      },
      "id": "u3e89qvLuAfd",
      "execution_count": 119,
      "outputs": [
        {
          "output_type": "execute_result",
          "data": {
            "text/plain": [
              "  label_type   00       000  00100000   01  01100101   02   03   05   06  ...  \\\n",
              "0       INFJ  0.0  0.000000       0.0  0.0       0.0  0.0  0.0  0.0  0.0  ...   \n",
              "1       ENTP  0.0  0.049496       0.0  0.0       0.0  0.0  0.0  0.0  0.0  ...   \n",
              "2       INTP  0.0  0.000000       0.0  0.0       0.0  0.0  0.0  0.0  0.0  ...   \n",
              "3       INTJ  0.0  0.000000       0.0  0.0       0.0  0.0  0.0  0.0  0.0  ...   \n",
              "4       ENTJ  0.0  0.000000       0.0  0.0       0.0  0.0  0.0  0.0  0.0  ...   \n",
              "\n",
              "   zodiac  zoe  zombi  zon  zone  zoo  zooey  zoom  zuko   är  \n",
              "0     0.0  0.0    0.0  0.0   0.0  0.0    0.0   0.0   0.0  0.0  \n",
              "1     0.0  0.0    0.0  0.0   0.0  0.0    0.0   0.0   0.0  0.0  \n",
              "2     0.0  0.0    0.0  0.0   0.0  0.0    0.0   0.0   0.0  0.0  \n",
              "3     0.0  0.0    0.0  0.0   0.0  0.0    0.0   0.0   0.0  0.0  \n",
              "4     0.0  0.0    0.0  0.0   0.0  0.0    0.0   0.0   0.0  0.0  \n",
              "\n",
              "[5 rows x 10001 columns]"
            ],
            "text/html": [
              "\n",
              "  <div id=\"df-cca7e4e7-8cc8-4fc0-b50a-04c4e81dbd0f\">\n",
              "    <div class=\"colab-df-container\">\n",
              "      <div>\n",
              "<style scoped>\n",
              "    .dataframe tbody tr th:only-of-type {\n",
              "        vertical-align: middle;\n",
              "    }\n",
              "\n",
              "    .dataframe tbody tr th {\n",
              "        vertical-align: top;\n",
              "    }\n",
              "\n",
              "    .dataframe thead th {\n",
              "        text-align: right;\n",
              "    }\n",
              "</style>\n",
              "<table border=\"1\" class=\"dataframe\">\n",
              "  <thead>\n",
              "    <tr style=\"text-align: right;\">\n",
              "      <th></th>\n",
              "      <th>label_type</th>\n",
              "      <th>00</th>\n",
              "      <th>000</th>\n",
              "      <th>00100000</th>\n",
              "      <th>01</th>\n",
              "      <th>01100101</th>\n",
              "      <th>02</th>\n",
              "      <th>03</th>\n",
              "      <th>05</th>\n",
              "      <th>06</th>\n",
              "      <th>...</th>\n",
              "      <th>zodiac</th>\n",
              "      <th>zoe</th>\n",
              "      <th>zombi</th>\n",
              "      <th>zon</th>\n",
              "      <th>zone</th>\n",
              "      <th>zoo</th>\n",
              "      <th>zooey</th>\n",
              "      <th>zoom</th>\n",
              "      <th>zuko</th>\n",
              "      <th>är</th>\n",
              "    </tr>\n",
              "  </thead>\n",
              "  <tbody>\n",
              "    <tr>\n",
              "      <th>0</th>\n",
              "      <td>INFJ</td>\n",
              "      <td>0.0</td>\n",
              "      <td>0.000000</td>\n",
              "      <td>0.0</td>\n",
              "      <td>0.0</td>\n",
              "      <td>0.0</td>\n",
              "      <td>0.0</td>\n",
              "      <td>0.0</td>\n",
              "      <td>0.0</td>\n",
              "      <td>0.0</td>\n",
              "      <td>...</td>\n",
              "      <td>0.0</td>\n",
              "      <td>0.0</td>\n",
              "      <td>0.0</td>\n",
              "      <td>0.0</td>\n",
              "      <td>0.0</td>\n",
              "      <td>0.0</td>\n",
              "      <td>0.0</td>\n",
              "      <td>0.0</td>\n",
              "      <td>0.0</td>\n",
              "      <td>0.0</td>\n",
              "    </tr>\n",
              "    <tr>\n",
              "      <th>1</th>\n",
              "      <td>ENTP</td>\n",
              "      <td>0.0</td>\n",
              "      <td>0.049496</td>\n",
              "      <td>0.0</td>\n",
              "      <td>0.0</td>\n",
              "      <td>0.0</td>\n",
              "      <td>0.0</td>\n",
              "      <td>0.0</td>\n",
              "      <td>0.0</td>\n",
              "      <td>0.0</td>\n",
              "      <td>...</td>\n",
              "      <td>0.0</td>\n",
              "      <td>0.0</td>\n",
              "      <td>0.0</td>\n",
              "      <td>0.0</td>\n",
              "      <td>0.0</td>\n",
              "      <td>0.0</td>\n",
              "      <td>0.0</td>\n",
              "      <td>0.0</td>\n",
              "      <td>0.0</td>\n",
              "      <td>0.0</td>\n",
              "    </tr>\n",
              "    <tr>\n",
              "      <th>2</th>\n",
              "      <td>INTP</td>\n",
              "      <td>0.0</td>\n",
              "      <td>0.000000</td>\n",
              "      <td>0.0</td>\n",
              "      <td>0.0</td>\n",
              "      <td>0.0</td>\n",
              "      <td>0.0</td>\n",
              "      <td>0.0</td>\n",
              "      <td>0.0</td>\n",
              "      <td>0.0</td>\n",
              "      <td>...</td>\n",
              "      <td>0.0</td>\n",
              "      <td>0.0</td>\n",
              "      <td>0.0</td>\n",
              "      <td>0.0</td>\n",
              "      <td>0.0</td>\n",
              "      <td>0.0</td>\n",
              "      <td>0.0</td>\n",
              "      <td>0.0</td>\n",
              "      <td>0.0</td>\n",
              "      <td>0.0</td>\n",
              "    </tr>\n",
              "    <tr>\n",
              "      <th>3</th>\n",
              "      <td>INTJ</td>\n",
              "      <td>0.0</td>\n",
              "      <td>0.000000</td>\n",
              "      <td>0.0</td>\n",
              "      <td>0.0</td>\n",
              "      <td>0.0</td>\n",
              "      <td>0.0</td>\n",
              "      <td>0.0</td>\n",
              "      <td>0.0</td>\n",
              "      <td>0.0</td>\n",
              "      <td>...</td>\n",
              "      <td>0.0</td>\n",
              "      <td>0.0</td>\n",
              "      <td>0.0</td>\n",
              "      <td>0.0</td>\n",
              "      <td>0.0</td>\n",
              "      <td>0.0</td>\n",
              "      <td>0.0</td>\n",
              "      <td>0.0</td>\n",
              "      <td>0.0</td>\n",
              "      <td>0.0</td>\n",
              "    </tr>\n",
              "    <tr>\n",
              "      <th>4</th>\n",
              "      <td>ENTJ</td>\n",
              "      <td>0.0</td>\n",
              "      <td>0.000000</td>\n",
              "      <td>0.0</td>\n",
              "      <td>0.0</td>\n",
              "      <td>0.0</td>\n",
              "      <td>0.0</td>\n",
              "      <td>0.0</td>\n",
              "      <td>0.0</td>\n",
              "      <td>0.0</td>\n",
              "      <td>...</td>\n",
              "      <td>0.0</td>\n",
              "      <td>0.0</td>\n",
              "      <td>0.0</td>\n",
              "      <td>0.0</td>\n",
              "      <td>0.0</td>\n",
              "      <td>0.0</td>\n",
              "      <td>0.0</td>\n",
              "      <td>0.0</td>\n",
              "      <td>0.0</td>\n",
              "      <td>0.0</td>\n",
              "    </tr>\n",
              "  </tbody>\n",
              "</table>\n",
              "<p>5 rows × 10001 columns</p>\n",
              "</div>\n",
              "      <button class=\"colab-df-convert\" onclick=\"convertToInteractive('df-cca7e4e7-8cc8-4fc0-b50a-04c4e81dbd0f')\"\n",
              "              title=\"Convert this dataframe to an interactive table.\"\n",
              "              style=\"display:none;\">\n",
              "        \n",
              "  <svg xmlns=\"http://www.w3.org/2000/svg\" height=\"24px\"viewBox=\"0 0 24 24\"\n",
              "       width=\"24px\">\n",
              "    <path d=\"M0 0h24v24H0V0z\" fill=\"none\"/>\n",
              "    <path d=\"M18.56 5.44l.94 2.06.94-2.06 2.06-.94-2.06-.94-.94-2.06-.94 2.06-2.06.94zm-11 1L8.5 8.5l.94-2.06 2.06-.94-2.06-.94L8.5 2.5l-.94 2.06-2.06.94zm10 10l.94 2.06.94-2.06 2.06-.94-2.06-.94-.94-2.06-.94 2.06-2.06.94z\"/><path d=\"M17.41 7.96l-1.37-1.37c-.4-.4-.92-.59-1.43-.59-.52 0-1.04.2-1.43.59L10.3 9.45l-7.72 7.72c-.78.78-.78 2.05 0 2.83L4 21.41c.39.39.9.59 1.41.59.51 0 1.02-.2 1.41-.59l7.78-7.78 2.81-2.81c.8-.78.8-2.07 0-2.86zM5.41 20L4 18.59l7.72-7.72 1.47 1.35L5.41 20z\"/>\n",
              "  </svg>\n",
              "      </button>\n",
              "      \n",
              "  <style>\n",
              "    .colab-df-container {\n",
              "      display:flex;\n",
              "      flex-wrap:wrap;\n",
              "      gap: 12px;\n",
              "    }\n",
              "\n",
              "    .colab-df-convert {\n",
              "      background-color: #E8F0FE;\n",
              "      border: none;\n",
              "      border-radius: 50%;\n",
              "      cursor: pointer;\n",
              "      display: none;\n",
              "      fill: #1967D2;\n",
              "      height: 32px;\n",
              "      padding: 0 0 0 0;\n",
              "      width: 32px;\n",
              "    }\n",
              "\n",
              "    .colab-df-convert:hover {\n",
              "      background-color: #E2EBFA;\n",
              "      box-shadow: 0px 1px 2px rgba(60, 64, 67, 0.3), 0px 1px 3px 1px rgba(60, 64, 67, 0.15);\n",
              "      fill: #174EA6;\n",
              "    }\n",
              "\n",
              "    [theme=dark] .colab-df-convert {\n",
              "      background-color: #3B4455;\n",
              "      fill: #D2E3FC;\n",
              "    }\n",
              "\n",
              "    [theme=dark] .colab-df-convert:hover {\n",
              "      background-color: #434B5C;\n",
              "      box-shadow: 0px 1px 3px 1px rgba(0, 0, 0, 0.15);\n",
              "      filter: drop-shadow(0px 1px 2px rgba(0, 0, 0, 0.3));\n",
              "      fill: #FFFFFF;\n",
              "    }\n",
              "  </style>\n",
              "\n",
              "      <script>\n",
              "        const buttonEl =\n",
              "          document.querySelector('#df-cca7e4e7-8cc8-4fc0-b50a-04c4e81dbd0f button.colab-df-convert');\n",
              "        buttonEl.style.display =\n",
              "          google.colab.kernel.accessAllowed ? 'block' : 'none';\n",
              "\n",
              "        async function convertToInteractive(key) {\n",
              "          const element = document.querySelector('#df-cca7e4e7-8cc8-4fc0-b50a-04c4e81dbd0f');\n",
              "          const dataTable =\n",
              "            await google.colab.kernel.invokeFunction('convertToInteractive',\n",
              "                                                     [key], {});\n",
              "          if (!dataTable) return;\n",
              "\n",
              "          const docLinkHtml = 'Like what you see? Visit the ' +\n",
              "            '<a target=\"_blank\" href=https://colab.research.google.com/notebooks/data_table.ipynb>data table notebook</a>'\n",
              "            + ' to learn more about interactive tables.';\n",
              "          element.innerHTML = '';\n",
              "          dataTable['output_type'] = 'display_data';\n",
              "          await google.colab.output.renderOutput(dataTable, element);\n",
              "          const docLink = document.createElement('div');\n",
              "          docLink.innerHTML = docLinkHtml;\n",
              "          element.appendChild(docLink);\n",
              "        }\n",
              "      </script>\n",
              "    </div>\n",
              "  </div>\n",
              "  "
            ]
          },
          "metadata": {},
          "execution_count": 119
        }
      ]
    },
    {
      "cell_type": "code",
      "source": [
        "label_type = tfidf_corpus['label_type']\n",
        "label_type"
      ],
      "metadata": {
        "colab": {
          "base_uri": "https://localhost:8080/"
        },
        "id": "pUW_xtnKuBER",
        "outputId": "28e4d64c-8b9c-4939-f8b8-9d4b403e06ba"
      },
      "id": "pUW_xtnKuBER",
      "execution_count": 120,
      "outputs": [
        {
          "output_type": "execute_result",
          "data": {
            "text/plain": [
              "0       INFJ\n",
              "1       ENTP\n",
              "2       INTP\n",
              "3       INTJ\n",
              "4       ENTJ\n",
              "        ... \n",
              "8670    ISFP\n",
              "8671    ENFP\n",
              "8672    INTP\n",
              "8673    INFP\n",
              "8674    INFP\n",
              "Name: label_type, Length: 8675, dtype: object"
            ]
          },
          "metadata": {},
          "execution_count": 120
        }
      ]
    },
    {
      "cell_type": "code",
      "source": [
        "# drop label column\n",
        "tfidf_corpus = tfidf_corpus.drop('label_type', axis=1)\n",
        "word2vec_corpus = word2vec_corpus.drop('label_type', axis=1)\n",
        "bert_corpus = bert_corpus.drop('label_type', axis=1)"
      ],
      "metadata": {
        "id": "7fEbVavjtCvT"
      },
      "id": "7fEbVavjtCvT",
      "execution_count": 121,
      "outputs": []
    },
    {
      "cell_type": "code",
      "source": [
        "from sklearn.model_selection import train_test_split\n",
        "\n",
        "tfidf_x_train, tfidf_x_test, tfidf_y_train, tfidf_y_test = train_test_split(tfidf_corpus, label_type, test_size=0.2, random_state=1024)\n",
        "word2vec_x_train, word2vec_x_test, word2vec_y_train, word2vec_y_test = train_test_split(word2vec_corpus, label_type, test_size=0.2, random_state=1024)\n",
        "bert_x_train, bert_x_test, bert_y_train, bert_y_test = train_test_split(bert_corpus, label_type, test_size=0.2, random_state=1024)"
      ],
      "metadata": {
        "id": "QQrPJlbbKMo8"
      },
      "id": "QQrPJlbbKMo8",
      "execution_count": 122,
      "outputs": []
    },
    {
      "cell_type": "markdown",
      "source": [
        "## Training with different corpus"
      ],
      "metadata": {
        "id": "oIId9ojDuvqP"
      },
      "id": "oIId9ojDuvqP"
    },
    {
      "cell_type": "markdown",
      "source": [
        "### TFIDF"
      ],
      "metadata": {
        "id": "7WPT0joVuzT_"
      },
      "id": "7WPT0joVuzT_"
    },
    {
      "cell_type": "code",
      "source": [
        "print(tfidf_x_train.shape)\n",
        "print(tfidf_x_test.shape)\n",
        "print(tfidf_y_train.shape)\n",
        "print(tfidf_y_test.shape)"
      ],
      "metadata": {
        "colab": {
          "base_uri": "https://localhost:8080/"
        },
        "id": "IfHaW5LFKWQj",
        "outputId": "1a2193b7-fbea-4470-cb35-eb62fa5effc6"
      },
      "id": "IfHaW5LFKWQj",
      "execution_count": 123,
      "outputs": [
        {
          "output_type": "stream",
          "name": "stdout",
          "text": [
            "(6940, 10000)\n",
            "(1735, 10000)\n",
            "(6940,)\n",
            "(1735,)\n"
          ]
        }
      ]
    },
    {
      "cell_type": "code",
      "source": [
        "tfidf_x_train.head()"
      ],
      "metadata": {
        "colab": {
          "base_uri": "https://localhost:8080/",
          "height": 235
        },
        "id": "D6Mcyx1SLkK8",
        "outputId": "bd3c2ea4-7cda-411f-e2d1-e0e629cdf8d0"
      },
      "id": "D6Mcyx1SLkK8",
      "execution_count": 124,
      "outputs": [
        {
          "output_type": "execute_result",
          "data": {
            "text/plain": [
              "       00  000  00100000   01  01100101        02   03   05   06   07  ...  \\\n",
              "4751  0.0  0.0       0.0  0.0       0.0  0.062019  0.0  0.0  0.0  0.0  ...   \n",
              "6586  0.0  0.0       0.0  0.0       0.0  0.000000  0.0  0.0  0.0  0.0  ...   \n",
              "5535  0.0  0.0       0.0  0.0       0.0  0.000000  0.0  0.0  0.0  0.0  ...   \n",
              "8375  0.0  0.0       0.0  0.0       0.0  0.000000  0.0  0.0  0.0  0.0  ...   \n",
              "5724  0.0  0.0       0.0  0.0       0.0  0.000000  0.0  0.0  0.0  0.0  ...   \n",
              "\n",
              "      zodiac  zoe  zombi  zon  zone  zoo  zooey  zoom  zuko   är  \n",
              "4751     0.0  0.0    0.0  0.0   0.0  0.0    0.0   0.0   0.0  0.0  \n",
              "6586     0.0  0.0    0.0  0.0   0.0  0.0    0.0   0.0   0.0  0.0  \n",
              "5535     0.0  0.0    0.0  0.0   0.0  0.0    0.0   0.0   0.0  0.0  \n",
              "8375     0.0  0.0    0.0  0.0   0.0  0.0    0.0   0.0   0.0  0.0  \n",
              "5724     0.0  0.0    0.0  0.0   0.0  0.0    0.0   0.0   0.0  0.0  \n",
              "\n",
              "[5 rows x 10000 columns]"
            ],
            "text/html": [
              "\n",
              "  <div id=\"df-522de56d-9bce-4d76-8153-46e8c20a76b6\">\n",
              "    <div class=\"colab-df-container\">\n",
              "      <div>\n",
              "<style scoped>\n",
              "    .dataframe tbody tr th:only-of-type {\n",
              "        vertical-align: middle;\n",
              "    }\n",
              "\n",
              "    .dataframe tbody tr th {\n",
              "        vertical-align: top;\n",
              "    }\n",
              "\n",
              "    .dataframe thead th {\n",
              "        text-align: right;\n",
              "    }\n",
              "</style>\n",
              "<table border=\"1\" class=\"dataframe\">\n",
              "  <thead>\n",
              "    <tr style=\"text-align: right;\">\n",
              "      <th></th>\n",
              "      <th>00</th>\n",
              "      <th>000</th>\n",
              "      <th>00100000</th>\n",
              "      <th>01</th>\n",
              "      <th>01100101</th>\n",
              "      <th>02</th>\n",
              "      <th>03</th>\n",
              "      <th>05</th>\n",
              "      <th>06</th>\n",
              "      <th>07</th>\n",
              "      <th>...</th>\n",
              "      <th>zodiac</th>\n",
              "      <th>zoe</th>\n",
              "      <th>zombi</th>\n",
              "      <th>zon</th>\n",
              "      <th>zone</th>\n",
              "      <th>zoo</th>\n",
              "      <th>zooey</th>\n",
              "      <th>zoom</th>\n",
              "      <th>zuko</th>\n",
              "      <th>är</th>\n",
              "    </tr>\n",
              "  </thead>\n",
              "  <tbody>\n",
              "    <tr>\n",
              "      <th>4751</th>\n",
              "      <td>0.0</td>\n",
              "      <td>0.0</td>\n",
              "      <td>0.0</td>\n",
              "      <td>0.0</td>\n",
              "      <td>0.0</td>\n",
              "      <td>0.062019</td>\n",
              "      <td>0.0</td>\n",
              "      <td>0.0</td>\n",
              "      <td>0.0</td>\n",
              "      <td>0.0</td>\n",
              "      <td>...</td>\n",
              "      <td>0.0</td>\n",
              "      <td>0.0</td>\n",
              "      <td>0.0</td>\n",
              "      <td>0.0</td>\n",
              "      <td>0.0</td>\n",
              "      <td>0.0</td>\n",
              "      <td>0.0</td>\n",
              "      <td>0.0</td>\n",
              "      <td>0.0</td>\n",
              "      <td>0.0</td>\n",
              "    </tr>\n",
              "    <tr>\n",
              "      <th>6586</th>\n",
              "      <td>0.0</td>\n",
              "      <td>0.0</td>\n",
              "      <td>0.0</td>\n",
              "      <td>0.0</td>\n",
              "      <td>0.0</td>\n",
              "      <td>0.000000</td>\n",
              "      <td>0.0</td>\n",
              "      <td>0.0</td>\n",
              "      <td>0.0</td>\n",
              "      <td>0.0</td>\n",
              "      <td>...</td>\n",
              "      <td>0.0</td>\n",
              "      <td>0.0</td>\n",
              "      <td>0.0</td>\n",
              "      <td>0.0</td>\n",
              "      <td>0.0</td>\n",
              "      <td>0.0</td>\n",
              "      <td>0.0</td>\n",
              "      <td>0.0</td>\n",
              "      <td>0.0</td>\n",
              "      <td>0.0</td>\n",
              "    </tr>\n",
              "    <tr>\n",
              "      <th>5535</th>\n",
              "      <td>0.0</td>\n",
              "      <td>0.0</td>\n",
              "      <td>0.0</td>\n",
              "      <td>0.0</td>\n",
              "      <td>0.0</td>\n",
              "      <td>0.000000</td>\n",
              "      <td>0.0</td>\n",
              "      <td>0.0</td>\n",
              "      <td>0.0</td>\n",
              "      <td>0.0</td>\n",
              "      <td>...</td>\n",
              "      <td>0.0</td>\n",
              "      <td>0.0</td>\n",
              "      <td>0.0</td>\n",
              "      <td>0.0</td>\n",
              "      <td>0.0</td>\n",
              "      <td>0.0</td>\n",
              "      <td>0.0</td>\n",
              "      <td>0.0</td>\n",
              "      <td>0.0</td>\n",
              "      <td>0.0</td>\n",
              "    </tr>\n",
              "    <tr>\n",
              "      <th>8375</th>\n",
              "      <td>0.0</td>\n",
              "      <td>0.0</td>\n",
              "      <td>0.0</td>\n",
              "      <td>0.0</td>\n",
              "      <td>0.0</td>\n",
              "      <td>0.000000</td>\n",
              "      <td>0.0</td>\n",
              "      <td>0.0</td>\n",
              "      <td>0.0</td>\n",
              "      <td>0.0</td>\n",
              "      <td>...</td>\n",
              "      <td>0.0</td>\n",
              "      <td>0.0</td>\n",
              "      <td>0.0</td>\n",
              "      <td>0.0</td>\n",
              "      <td>0.0</td>\n",
              "      <td>0.0</td>\n",
              "      <td>0.0</td>\n",
              "      <td>0.0</td>\n",
              "      <td>0.0</td>\n",
              "      <td>0.0</td>\n",
              "    </tr>\n",
              "    <tr>\n",
              "      <th>5724</th>\n",
              "      <td>0.0</td>\n",
              "      <td>0.0</td>\n",
              "      <td>0.0</td>\n",
              "      <td>0.0</td>\n",
              "      <td>0.0</td>\n",
              "      <td>0.000000</td>\n",
              "      <td>0.0</td>\n",
              "      <td>0.0</td>\n",
              "      <td>0.0</td>\n",
              "      <td>0.0</td>\n",
              "      <td>...</td>\n",
              "      <td>0.0</td>\n",
              "      <td>0.0</td>\n",
              "      <td>0.0</td>\n",
              "      <td>0.0</td>\n",
              "      <td>0.0</td>\n",
              "      <td>0.0</td>\n",
              "      <td>0.0</td>\n",
              "      <td>0.0</td>\n",
              "      <td>0.0</td>\n",
              "      <td>0.0</td>\n",
              "    </tr>\n",
              "  </tbody>\n",
              "</table>\n",
              "<p>5 rows × 10000 columns</p>\n",
              "</div>\n",
              "      <button class=\"colab-df-convert\" onclick=\"convertToInteractive('df-522de56d-9bce-4d76-8153-46e8c20a76b6')\"\n",
              "              title=\"Convert this dataframe to an interactive table.\"\n",
              "              style=\"display:none;\">\n",
              "        \n",
              "  <svg xmlns=\"http://www.w3.org/2000/svg\" height=\"24px\"viewBox=\"0 0 24 24\"\n",
              "       width=\"24px\">\n",
              "    <path d=\"M0 0h24v24H0V0z\" fill=\"none\"/>\n",
              "    <path d=\"M18.56 5.44l.94 2.06.94-2.06 2.06-.94-2.06-.94-.94-2.06-.94 2.06-2.06.94zm-11 1L8.5 8.5l.94-2.06 2.06-.94-2.06-.94L8.5 2.5l-.94 2.06-2.06.94zm10 10l.94 2.06.94-2.06 2.06-.94-2.06-.94-.94-2.06-.94 2.06-2.06.94z\"/><path d=\"M17.41 7.96l-1.37-1.37c-.4-.4-.92-.59-1.43-.59-.52 0-1.04.2-1.43.59L10.3 9.45l-7.72 7.72c-.78.78-.78 2.05 0 2.83L4 21.41c.39.39.9.59 1.41.59.51 0 1.02-.2 1.41-.59l7.78-7.78 2.81-2.81c.8-.78.8-2.07 0-2.86zM5.41 20L4 18.59l7.72-7.72 1.47 1.35L5.41 20z\"/>\n",
              "  </svg>\n",
              "      </button>\n",
              "      \n",
              "  <style>\n",
              "    .colab-df-container {\n",
              "      display:flex;\n",
              "      flex-wrap:wrap;\n",
              "      gap: 12px;\n",
              "    }\n",
              "\n",
              "    .colab-df-convert {\n",
              "      background-color: #E8F0FE;\n",
              "      border: none;\n",
              "      border-radius: 50%;\n",
              "      cursor: pointer;\n",
              "      display: none;\n",
              "      fill: #1967D2;\n",
              "      height: 32px;\n",
              "      padding: 0 0 0 0;\n",
              "      width: 32px;\n",
              "    }\n",
              "\n",
              "    .colab-df-convert:hover {\n",
              "      background-color: #E2EBFA;\n",
              "      box-shadow: 0px 1px 2px rgba(60, 64, 67, 0.3), 0px 1px 3px 1px rgba(60, 64, 67, 0.15);\n",
              "      fill: #174EA6;\n",
              "    }\n",
              "\n",
              "    [theme=dark] .colab-df-convert {\n",
              "      background-color: #3B4455;\n",
              "      fill: #D2E3FC;\n",
              "    }\n",
              "\n",
              "    [theme=dark] .colab-df-convert:hover {\n",
              "      background-color: #434B5C;\n",
              "      box-shadow: 0px 1px 3px 1px rgba(0, 0, 0, 0.15);\n",
              "      filter: drop-shadow(0px 1px 2px rgba(0, 0, 0, 0.3));\n",
              "      fill: #FFFFFF;\n",
              "    }\n",
              "  </style>\n",
              "\n",
              "      <script>\n",
              "        const buttonEl =\n",
              "          document.querySelector('#df-522de56d-9bce-4d76-8153-46e8c20a76b6 button.colab-df-convert');\n",
              "        buttonEl.style.display =\n",
              "          google.colab.kernel.accessAllowed ? 'block' : 'none';\n",
              "\n",
              "        async function convertToInteractive(key) {\n",
              "          const element = document.querySelector('#df-522de56d-9bce-4d76-8153-46e8c20a76b6');\n",
              "          const dataTable =\n",
              "            await google.colab.kernel.invokeFunction('convertToInteractive',\n",
              "                                                     [key], {});\n",
              "          if (!dataTable) return;\n",
              "\n",
              "          const docLinkHtml = 'Like what you see? Visit the ' +\n",
              "            '<a target=\"_blank\" href=https://colab.research.google.com/notebooks/data_table.ipynb>data table notebook</a>'\n",
              "            + ' to learn more about interactive tables.';\n",
              "          element.innerHTML = '';\n",
              "          dataTable['output_type'] = 'display_data';\n",
              "          await google.colab.output.renderOutput(dataTable, element);\n",
              "          const docLink = document.createElement('div');\n",
              "          docLink.innerHTML = docLinkHtml;\n",
              "          element.appendChild(docLink);\n",
              "        }\n",
              "      </script>\n",
              "    </div>\n",
              "  </div>\n",
              "  "
            ]
          },
          "metadata": {},
          "execution_count": 124
        }
      ]
    },
    {
      "cell_type": "markdown",
      "source": [
        "#### KNN"
      ],
      "metadata": {
        "id": "6_G5osQ2d__F"
      },
      "id": "6_G5osQ2d__F"
    },
    {
      "cell_type": "code",
      "source": [
        "from sklearn.neighbors import KNeighborsClassifier\n",
        "from sklearn import metrics\n",
        "import warnings\n",
        "warnings.filterwarnings('ignore') \n",
        "\n",
        "expected_results = []\n",
        "expected_results.extend(tfidf_y_test)\n",
        "tfidf_accuracies = {}\n",
        "\n",
        "k_with_best_accuracy = 0\n",
        "best_accuracy = 0\n",
        "\n",
        "# try to find the best k\n",
        "for k in range(1, 15, 2):\n",
        "  KNN_model = KNeighborsClassifier(n_neighbors = k)\n",
        "  KNN_model.fit(tfidf_x_train, tfidf_y_train)\n",
        "  accuracy = metrics.accuracy_score(expected_results, KNN_model.predict(tfidf_x_test))\n",
        "  if accuracy > best_accuracy:\n",
        "    k_with_best_accuracy = k\n",
        "    best_accuracy = accuracy\n",
        "print('Besk k and its accuracy: {}, {}'.format(k, round(accuracy, 4)))"
      ],
      "metadata": {
        "colab": {
          "base_uri": "https://localhost:8080/"
        },
        "id": "irY35VcG_lmE",
        "outputId": "27064768-ddf0-452d-e24b-ff72d829039e"
      },
      "id": "irY35VcG_lmE",
      "execution_count": 125,
      "outputs": [
        {
          "output_type": "stream",
          "name": "stdout",
          "text": [
            "Besk k and its accuracy: 13, 0.4548\n"
          ]
        }
      ]
    },
    {
      "cell_type": "code",
      "source": [
        "KNN_model = KNeighborsClassifier(n_neighbors = k_with_best_accuracy)\n",
        "KNN_model.fit(tfidf_x_train, tfidf_y_train)\n",
        "predicted_results = KNN_model.predict(tfidf_x_test)\n",
        "accuracy = round(metrics.accuracy_score(expected_results, predicted_results), 4)\n",
        "tfidf_accuracies['KNN'] = accuracy\n",
        "print('Accuracy: ', accuracy)\n",
        "print(metrics.classification_report(expected_results, predicted_results))"
      ],
      "metadata": {
        "colab": {
          "base_uri": "https://localhost:8080/"
        },
        "id": "SPoNRgyCV32n",
        "outputId": "86889f58-44d0-4ab3-d0f5-a0f9d8835343"
      },
      "id": "SPoNRgyCV32n",
      "execution_count": 126,
      "outputs": [
        {
          "output_type": "stream",
          "name": "stdout",
          "text": [
            "Accuracy:  0.4548\n",
            "              precision    recall  f1-score   support\n",
            "\n",
            "        ENFJ       0.47      0.37      0.41        38\n",
            "        ENFP       0.34      0.51      0.41       123\n",
            "        ENTJ       0.72      0.32      0.44        41\n",
            "        ENTP       0.58      0.39      0.47       127\n",
            "        ESFJ       0.50      0.43      0.46         7\n",
            "        ESFP       0.00      0.00      0.00        11\n",
            "        ESTJ       0.50      0.20      0.29         5\n",
            "        ESTP       0.64      0.39      0.48        18\n",
            "        INFJ       0.36      0.72      0.48       302\n",
            "        INFP       0.46      0.65      0.54       379\n",
            "        INTJ       0.48      0.21      0.29       213\n",
            "        INTP       0.84      0.31      0.45       293\n",
            "        ISFJ       0.63      0.41      0.50        29\n",
            "        ISFP       0.88      0.23      0.36        61\n",
            "        ISTJ       0.50      0.18      0.26        28\n",
            "        ISTP       0.91      0.17      0.28        60\n",
            "\n",
            "    accuracy                           0.45      1735\n",
            "   macro avg       0.55      0.34      0.38      1735\n",
            "weighted avg       0.55      0.45      0.44      1735\n",
            "\n"
          ]
        }
      ]
    },
    {
      "cell_type": "markdown",
      "source": [
        "#### Naïve Bayes"
      ],
      "metadata": {
        "id": "QMxHvGQDVumx"
      },
      "id": "QMxHvGQDVumx"
    },
    {
      "cell_type": "code",
      "source": [
        "from sklearn. naive_bayes import MultinomialNB\n",
        "\n",
        "NB_model = MultinomialNB()\n",
        "NB_model.fit(tfidf_x_train, tfidf_y_train)\n",
        "predicted_results = NB_model.predict(tfidf_x_test)\n",
        "# print(metrics.accuracy_score(expected_results, predicted_results))\n",
        "accuracy = round(metrics.accuracy_score(expected_results, predicted_results), 4)\n",
        "tfidf_accuracies['NB'] = accuracy\n",
        "print('Accuracy: ', accuracy)\n",
        "print(metrics.classification_report(expected_results, predicted_results))"
      ],
      "metadata": {
        "colab": {
          "base_uri": "https://localhost:8080/"
        },
        "id": "LGExuUdkZzlv",
        "outputId": "b9b947fa-10b7-44c3-d8f9-bde226d43b10"
      },
      "id": "LGExuUdkZzlv",
      "execution_count": 127,
      "outputs": [
        {
          "output_type": "stream",
          "name": "stdout",
          "text": [
            "Accuracy:  0.2824\n",
            "              precision    recall  f1-score   support\n",
            "\n",
            "        ENFJ       0.00      0.00      0.00        38\n",
            "        ENFP       0.00      0.00      0.00       123\n",
            "        ENTJ       0.00      0.00      0.00        41\n",
            "        ENTP       0.00      0.00      0.00       127\n",
            "        ESFJ       0.00      0.00      0.00         7\n",
            "        ESFP       0.00      0.00      0.00        11\n",
            "        ESTJ       0.00      0.00      0.00         5\n",
            "        ESTP       0.00      0.00      0.00        18\n",
            "        INFJ       0.42      0.23      0.29       302\n",
            "        INFP       0.25      0.97      0.40       379\n",
            "        INTJ       0.79      0.05      0.10       213\n",
            "        INTP       0.50      0.15      0.23       293\n",
            "        ISFJ       0.00      0.00      0.00        29\n",
            "        ISFP       0.00      0.00      0.00        61\n",
            "        ISTJ       0.00      0.00      0.00        28\n",
            "        ISTP       0.00      0.00      0.00        60\n",
            "\n",
            "    accuracy                           0.28      1735\n",
            "   macro avg       0.12      0.09      0.06      1735\n",
            "weighted avg       0.31      0.28      0.19      1735\n",
            "\n"
          ]
        }
      ]
    },
    {
      "cell_type": "markdown",
      "source": [
        "#### SVM"
      ],
      "metadata": {
        "id": "MkkNRNaDVn3x"
      },
      "id": "MkkNRNaDVn3x"
    },
    {
      "cell_type": "code",
      "source": [
        "from sklearn.svm import SVC # about 9mins\n",
        "\n",
        "SVM_model = SVC(kernel='linear')\n",
        "SVM_model.fit(tfidf_x_train, tfidf_y_train)\n",
        "predicted_results = SVM_model.predict(tfidf_x_test)\n",
        "# print(metrics.accuracy_score(expected_results, predicted_results))\n",
        "accuracy = round(metrics.accuracy_score(expected_results, predicted_results), 4)\n",
        "tfidf_accuracies['SVM'] = accuracy\n",
        "print('Accuracy: ', accuracy)\n",
        "print(metrics.classification_report(expected_results, predicted_results))"
      ],
      "metadata": {
        "id": "oF6275t1WZcO",
        "colab": {
          "base_uri": "https://localhost:8080/"
        },
        "outputId": "afd028f8-116c-4395-9b34-98e392dba16b"
      },
      "id": "oF6275t1WZcO",
      "execution_count": 128,
      "outputs": [
        {
          "output_type": "stream",
          "name": "stdout",
          "text": [
            "Accuracy:  0.6847\n",
            "              precision    recall  f1-score   support\n",
            "\n",
            "        ENFJ       0.65      0.39      0.49        38\n",
            "        ENFP       0.67      0.58      0.62       123\n",
            "        ENTJ       0.53      0.46      0.49        41\n",
            "        ENTP       0.70      0.66      0.68       127\n",
            "        ESFJ       0.60      0.43      0.50         7\n",
            "        ESFP       0.00      0.00      0.00        11\n",
            "        ESTJ       0.00      0.00      0.00         5\n",
            "        ESTP       0.90      0.50      0.64        18\n",
            "        INFJ       0.71      0.70      0.71       302\n",
            "        INFP       0.65      0.84      0.73       379\n",
            "        INTJ       0.68      0.68      0.68       213\n",
            "        INTP       0.70      0.74      0.72       293\n",
            "        ISFJ       0.79      0.38      0.51        29\n",
            "        ISFP       0.83      0.49      0.62        61\n",
            "        ISTJ       0.60      0.54      0.57        28\n",
            "        ISTP       0.78      0.67      0.72        60\n",
            "\n",
            "    accuracy                           0.68      1735\n",
            "   macro avg       0.61      0.50      0.54      1735\n",
            "weighted avg       0.68      0.68      0.68      1735\n",
            "\n"
          ]
        }
      ]
    },
    {
      "cell_type": "markdown",
      "source": [
        "#### Random Forest"
      ],
      "metadata": {
        "id": "H_Hxfz7sVrap"
      },
      "id": "H_Hxfz7sVrap"
    },
    {
      "cell_type": "code",
      "source": [
        "from sklearn.ensemble import RandomForestClassifier\n",
        "\n",
        "RandomForest_model = RandomForestClassifier() #n_estimators=20, max_depth=4)\n",
        "RandomForest_model.fit(tfidf_x_train, tfidf_y_train)\n",
        "predicted_results = RandomForest_model.predict(tfidf_x_test)\n",
        "# print(metrics.accuracy_score(expected_results, predicted_results))\n",
        "accuracy = round(metrics.accuracy_score(expected_results, predicted_results), 4)\n",
        "tfidf_accuracies['Random Forest'] = accuracy\n",
        "print('Accuracy: ', accuracy)\n",
        "print(metrics.classification_report(expected_results, predicted_results))"
      ],
      "metadata": {
        "colab": {
          "base_uri": "https://localhost:8080/"
        },
        "id": "6ACW8gzAalFD",
        "outputId": "a9940b3c-3b71-4667-9916-31b5e4b869a7"
      },
      "id": "6ACW8gzAalFD",
      "execution_count": 129,
      "outputs": [
        {
          "output_type": "stream",
          "name": "stdout",
          "text": [
            "Accuracy:  0.4876\n",
            "              precision    recall  f1-score   support\n",
            "\n",
            "        ENFJ       0.00      0.00      0.00        38\n",
            "        ENFP       0.80      0.16      0.27       123\n",
            "        ENTJ       0.00      0.00      0.00        41\n",
            "        ENTP       0.71      0.35      0.47       127\n",
            "        ESFJ       0.00      0.00      0.00         7\n",
            "        ESFP       0.00      0.00      0.00        11\n",
            "        ESTJ       0.00      0.00      0.00         5\n",
            "        ESTP       0.00      0.00      0.00        18\n",
            "        INFJ       0.52      0.61      0.56       302\n",
            "        INFP       0.40      0.90      0.55       379\n",
            "        INTJ       0.57      0.36      0.44       213\n",
            "        INTP       0.59      0.61      0.60       293\n",
            "        ISFJ       0.00      0.00      0.00        29\n",
            "        ISFP       0.00      0.00      0.00        61\n",
            "        ISTJ       0.00      0.00      0.00        28\n",
            "        ISTP       1.00      0.05      0.10        60\n",
            "\n",
            "    accuracy                           0.49      1735\n",
            "   macro avg       0.29      0.19      0.19      1735\n",
            "weighted avg       0.49      0.49      0.43      1735\n",
            "\n"
          ]
        }
      ]
    },
    {
      "cell_type": "markdown",
      "source": [
        "#### XGBoost"
      ],
      "metadata": {
        "id": "R2pr57x3Vw0D"
      },
      "id": "R2pr57x3Vw0D"
    },
    {
      "cell_type": "code",
      "source": [
        "from xgboost import XGBClassifier # About 1min\n",
        "\n",
        "XGBoost_model = XGBClassifier(tree_method='gpu_hist')\n",
        "XGBoost_model.fit(tfidf_x_train, tfidf_y_train)\n",
        "predicted_results = XGBoost_model.predict(tfidf_x_test)\n",
        "# print(metrics.accuracy_score(expected_results, predicted_results))\n",
        "accuracy = round(metrics.accuracy_score(expected_results, predicted_results), 4)\n",
        "tfidf_accuracies['XGBoost'] = accuracy\n",
        "print('Accuracy: ', accuracy)\n",
        "print(metrics.classification_report(expected_results, predicted_results))"
      ],
      "metadata": {
        "id": "Qpwmh1SJKmqQ",
        "colab": {
          "base_uri": "https://localhost:8080/"
        },
        "outputId": "c81873e9-5661-4a57-fa0e-773bf23b0571"
      },
      "id": "Qpwmh1SJKmqQ",
      "execution_count": 130,
      "outputs": [
        {
          "output_type": "stream",
          "name": "stdout",
          "text": [
            "Accuracy:  0.6916\n",
            "              precision    recall  f1-score   support\n",
            "\n",
            "        ENFJ       0.62      0.26      0.37        38\n",
            "        ENFP       0.64      0.57      0.60       123\n",
            "        ENTJ       0.61      0.54      0.57        41\n",
            "        ENTP       0.60      0.65      0.62       127\n",
            "        ESFJ       0.00      0.00      0.00         7\n",
            "        ESFP       0.00      0.00      0.00        11\n",
            "        ESTJ       0.50      0.20      0.29         5\n",
            "        ESTP       0.80      0.67      0.73        18\n",
            "        INFJ       0.69      0.74      0.71       302\n",
            "        INFP       0.68      0.80      0.74       379\n",
            "        INTJ       0.73      0.75      0.74       213\n",
            "        INTP       0.73      0.73      0.73       293\n",
            "        ISFJ       0.71      0.52      0.60        29\n",
            "        ISFP       0.80      0.54      0.65        61\n",
            "        ISTJ       0.59      0.57      0.58        28\n",
            "        ISTP       0.78      0.65      0.71        60\n",
            "\n",
            "    accuracy                           0.69      1735\n",
            "   macro avg       0.59      0.51      0.54      1735\n",
            "weighted avg       0.69      0.69      0.68      1735\n",
            "\n"
          ]
        }
      ]
    },
    {
      "cell_type": "markdown",
      "source": [
        "#### Accuracy Summary"
      ],
      "metadata": {
        "id": "cSR1qW9lcf6Y"
      },
      "id": "cSR1qW9lcf6Y"
    },
    {
      "cell_type": "code",
      "source": [
        "sorted_temp = sorted(tfidf_accuracies.items(), key=lambda x:x[1], reverse=True)\n",
        "sorted_dict = dict(sorted_temp)\n",
        "\n",
        "for model, accuracy in sorted_dict.items():\n",
        "  print('{:14s}: {}'. format(model, accuracy))"
      ],
      "metadata": {
        "colab": {
          "base_uri": "https://localhost:8080/"
        },
        "id": "IHBJy2LBoMYr",
        "outputId": "dcefb683-4bbe-48df-89a9-7bfb283f3456"
      },
      "id": "IHBJy2LBoMYr",
      "execution_count": 131,
      "outputs": [
        {
          "output_type": "stream",
          "name": "stdout",
          "text": [
            "XGBoost       : 0.6916\n",
            "SVM           : 0.6847\n",
            "Random Forest : 0.4876\n",
            "KNN           : 0.4548\n",
            "NB            : 0.2824\n"
          ]
        }
      ]
    },
    {
      "cell_type": "markdown",
      "source": [
        "### Word2Vec"
      ],
      "metadata": {
        "id": "1P24hvdlu3ub"
      },
      "id": "1P24hvdlu3ub"
    },
    {
      "cell_type": "code",
      "source": [
        "print(word2vec_x_train.shape)\n",
        "print(word2vec_x_test.shape)\n",
        "print(word2vec_y_train.shape)\n",
        "print(word2vec_y_test.shape)"
      ],
      "metadata": {
        "colab": {
          "base_uri": "https://localhost:8080/"
        },
        "id": "VEz08Y7s8LNM",
        "outputId": "d5fcbdfc-484f-4358-97f7-ee9f893f9a89"
      },
      "id": "VEz08Y7s8LNM",
      "execution_count": 132,
      "outputs": [
        {
          "output_type": "stream",
          "name": "stdout",
          "text": [
            "(6940, 300)\n",
            "(1735, 300)\n",
            "(6940,)\n",
            "(1735,)\n"
          ]
        }
      ]
    },
    {
      "cell_type": "code",
      "source": [
        "word2vec_x_train.head()"
      ],
      "metadata": {
        "colab": {
          "base_uri": "https://localhost:8080/",
          "height": 299
        },
        "id": "sRey7i3r1D6B",
        "outputId": "d5ea6639-2e71-4a55-a260-02bde5ee342f"
      },
      "id": "sRey7i3r1D6B",
      "execution_count": 133,
      "outputs": [
        {
          "output_type": "execute_result",
          "data": {
            "text/plain": [
              "             0         1         2         3         4         5         6  \\\n",
              "4751  0.033608  0.019713 -0.006406  0.103992 -0.073113  0.012430  0.060293   \n",
              "6586  0.015971  0.018738 -0.008684  0.095841 -0.059922  0.020814  0.055605   \n",
              "5535  0.003274  0.032183  0.012234  0.131873 -0.091715  0.023427  0.022110   \n",
              "8375  0.017993  0.022159 -0.001820  0.127087 -0.051276  0.010008  0.064386   \n",
              "5724  0.058109  0.018364  0.019445  0.120743 -0.082491  0.043969  0.091466   \n",
              "\n",
              "             7         8         9  ...       290       291       292  \\\n",
              "4751 -0.061190  0.073180  0.052323  ... -0.062131  0.076530 -0.070884   \n",
              "6586 -0.104802  0.081261  0.052042  ... -0.044834  0.062640 -0.089133   \n",
              "5535 -0.055153  0.063780  0.053258  ...  0.001829  0.057937 -0.095537   \n",
              "8375 -0.053379  0.063310  0.036754  ... -0.045500  0.060219 -0.068598   \n",
              "5724 -0.050806  0.084152  0.039735  ... -0.039496  0.059131 -0.083170   \n",
              "\n",
              "           293       294       295       296       297       298       299  \n",
              "4751  0.025346 -0.049229 -0.014008  0.018575 -0.052992  0.026174 -0.003254  \n",
              "6586 -0.001836 -0.055600 -0.050004  0.001039 -0.058356 -0.002797 -0.010239  \n",
              "5535  0.022092 -0.058073 -0.046735 -0.023682 -0.073307 -0.008851  0.033536  \n",
              "8375  0.012662 -0.036910 -0.034133  0.035755 -0.062563  0.004587 -0.008409  \n",
              "5724  0.012914 -0.062171 -0.039137  0.025268 -0.054501  0.026521 -0.005303  \n",
              "\n",
              "[5 rows x 300 columns]"
            ],
            "text/html": [
              "\n",
              "  <div id=\"df-b100724f-ff99-408b-86c1-c1c461ff6433\">\n",
              "    <div class=\"colab-df-container\">\n",
              "      <div>\n",
              "<style scoped>\n",
              "    .dataframe tbody tr th:only-of-type {\n",
              "        vertical-align: middle;\n",
              "    }\n",
              "\n",
              "    .dataframe tbody tr th {\n",
              "        vertical-align: top;\n",
              "    }\n",
              "\n",
              "    .dataframe thead th {\n",
              "        text-align: right;\n",
              "    }\n",
              "</style>\n",
              "<table border=\"1\" class=\"dataframe\">\n",
              "  <thead>\n",
              "    <tr style=\"text-align: right;\">\n",
              "      <th></th>\n",
              "      <th>0</th>\n",
              "      <th>1</th>\n",
              "      <th>2</th>\n",
              "      <th>3</th>\n",
              "      <th>4</th>\n",
              "      <th>5</th>\n",
              "      <th>6</th>\n",
              "      <th>7</th>\n",
              "      <th>8</th>\n",
              "      <th>9</th>\n",
              "      <th>...</th>\n",
              "      <th>290</th>\n",
              "      <th>291</th>\n",
              "      <th>292</th>\n",
              "      <th>293</th>\n",
              "      <th>294</th>\n",
              "      <th>295</th>\n",
              "      <th>296</th>\n",
              "      <th>297</th>\n",
              "      <th>298</th>\n",
              "      <th>299</th>\n",
              "    </tr>\n",
              "  </thead>\n",
              "  <tbody>\n",
              "    <tr>\n",
              "      <th>4751</th>\n",
              "      <td>0.033608</td>\n",
              "      <td>0.019713</td>\n",
              "      <td>-0.006406</td>\n",
              "      <td>0.103992</td>\n",
              "      <td>-0.073113</td>\n",
              "      <td>0.012430</td>\n",
              "      <td>0.060293</td>\n",
              "      <td>-0.061190</td>\n",
              "      <td>0.073180</td>\n",
              "      <td>0.052323</td>\n",
              "      <td>...</td>\n",
              "      <td>-0.062131</td>\n",
              "      <td>0.076530</td>\n",
              "      <td>-0.070884</td>\n",
              "      <td>0.025346</td>\n",
              "      <td>-0.049229</td>\n",
              "      <td>-0.014008</td>\n",
              "      <td>0.018575</td>\n",
              "      <td>-0.052992</td>\n",
              "      <td>0.026174</td>\n",
              "      <td>-0.003254</td>\n",
              "    </tr>\n",
              "    <tr>\n",
              "      <th>6586</th>\n",
              "      <td>0.015971</td>\n",
              "      <td>0.018738</td>\n",
              "      <td>-0.008684</td>\n",
              "      <td>0.095841</td>\n",
              "      <td>-0.059922</td>\n",
              "      <td>0.020814</td>\n",
              "      <td>0.055605</td>\n",
              "      <td>-0.104802</td>\n",
              "      <td>0.081261</td>\n",
              "      <td>0.052042</td>\n",
              "      <td>...</td>\n",
              "      <td>-0.044834</td>\n",
              "      <td>0.062640</td>\n",
              "      <td>-0.089133</td>\n",
              "      <td>-0.001836</td>\n",
              "      <td>-0.055600</td>\n",
              "      <td>-0.050004</td>\n",
              "      <td>0.001039</td>\n",
              "      <td>-0.058356</td>\n",
              "      <td>-0.002797</td>\n",
              "      <td>-0.010239</td>\n",
              "    </tr>\n",
              "    <tr>\n",
              "      <th>5535</th>\n",
              "      <td>0.003274</td>\n",
              "      <td>0.032183</td>\n",
              "      <td>0.012234</td>\n",
              "      <td>0.131873</td>\n",
              "      <td>-0.091715</td>\n",
              "      <td>0.023427</td>\n",
              "      <td>0.022110</td>\n",
              "      <td>-0.055153</td>\n",
              "      <td>0.063780</td>\n",
              "      <td>0.053258</td>\n",
              "      <td>...</td>\n",
              "      <td>0.001829</td>\n",
              "      <td>0.057937</td>\n",
              "      <td>-0.095537</td>\n",
              "      <td>0.022092</td>\n",
              "      <td>-0.058073</td>\n",
              "      <td>-0.046735</td>\n",
              "      <td>-0.023682</td>\n",
              "      <td>-0.073307</td>\n",
              "      <td>-0.008851</td>\n",
              "      <td>0.033536</td>\n",
              "    </tr>\n",
              "    <tr>\n",
              "      <th>8375</th>\n",
              "      <td>0.017993</td>\n",
              "      <td>0.022159</td>\n",
              "      <td>-0.001820</td>\n",
              "      <td>0.127087</td>\n",
              "      <td>-0.051276</td>\n",
              "      <td>0.010008</td>\n",
              "      <td>0.064386</td>\n",
              "      <td>-0.053379</td>\n",
              "      <td>0.063310</td>\n",
              "      <td>0.036754</td>\n",
              "      <td>...</td>\n",
              "      <td>-0.045500</td>\n",
              "      <td>0.060219</td>\n",
              "      <td>-0.068598</td>\n",
              "      <td>0.012662</td>\n",
              "      <td>-0.036910</td>\n",
              "      <td>-0.034133</td>\n",
              "      <td>0.035755</td>\n",
              "      <td>-0.062563</td>\n",
              "      <td>0.004587</td>\n",
              "      <td>-0.008409</td>\n",
              "    </tr>\n",
              "    <tr>\n",
              "      <th>5724</th>\n",
              "      <td>0.058109</td>\n",
              "      <td>0.018364</td>\n",
              "      <td>0.019445</td>\n",
              "      <td>0.120743</td>\n",
              "      <td>-0.082491</td>\n",
              "      <td>0.043969</td>\n",
              "      <td>0.091466</td>\n",
              "      <td>-0.050806</td>\n",
              "      <td>0.084152</td>\n",
              "      <td>0.039735</td>\n",
              "      <td>...</td>\n",
              "      <td>-0.039496</td>\n",
              "      <td>0.059131</td>\n",
              "      <td>-0.083170</td>\n",
              "      <td>0.012914</td>\n",
              "      <td>-0.062171</td>\n",
              "      <td>-0.039137</td>\n",
              "      <td>0.025268</td>\n",
              "      <td>-0.054501</td>\n",
              "      <td>0.026521</td>\n",
              "      <td>-0.005303</td>\n",
              "    </tr>\n",
              "  </tbody>\n",
              "</table>\n",
              "<p>5 rows × 300 columns</p>\n",
              "</div>\n",
              "      <button class=\"colab-df-convert\" onclick=\"convertToInteractive('df-b100724f-ff99-408b-86c1-c1c461ff6433')\"\n",
              "              title=\"Convert this dataframe to an interactive table.\"\n",
              "              style=\"display:none;\">\n",
              "        \n",
              "  <svg xmlns=\"http://www.w3.org/2000/svg\" height=\"24px\"viewBox=\"0 0 24 24\"\n",
              "       width=\"24px\">\n",
              "    <path d=\"M0 0h24v24H0V0z\" fill=\"none\"/>\n",
              "    <path d=\"M18.56 5.44l.94 2.06.94-2.06 2.06-.94-2.06-.94-.94-2.06-.94 2.06-2.06.94zm-11 1L8.5 8.5l.94-2.06 2.06-.94-2.06-.94L8.5 2.5l-.94 2.06-2.06.94zm10 10l.94 2.06.94-2.06 2.06-.94-2.06-.94-.94-2.06-.94 2.06-2.06.94z\"/><path d=\"M17.41 7.96l-1.37-1.37c-.4-.4-.92-.59-1.43-.59-.52 0-1.04.2-1.43.59L10.3 9.45l-7.72 7.72c-.78.78-.78 2.05 0 2.83L4 21.41c.39.39.9.59 1.41.59.51 0 1.02-.2 1.41-.59l7.78-7.78 2.81-2.81c.8-.78.8-2.07 0-2.86zM5.41 20L4 18.59l7.72-7.72 1.47 1.35L5.41 20z\"/>\n",
              "  </svg>\n",
              "      </button>\n",
              "      \n",
              "  <style>\n",
              "    .colab-df-container {\n",
              "      display:flex;\n",
              "      flex-wrap:wrap;\n",
              "      gap: 12px;\n",
              "    }\n",
              "\n",
              "    .colab-df-convert {\n",
              "      background-color: #E8F0FE;\n",
              "      border: none;\n",
              "      border-radius: 50%;\n",
              "      cursor: pointer;\n",
              "      display: none;\n",
              "      fill: #1967D2;\n",
              "      height: 32px;\n",
              "      padding: 0 0 0 0;\n",
              "      width: 32px;\n",
              "    }\n",
              "\n",
              "    .colab-df-convert:hover {\n",
              "      background-color: #E2EBFA;\n",
              "      box-shadow: 0px 1px 2px rgba(60, 64, 67, 0.3), 0px 1px 3px 1px rgba(60, 64, 67, 0.15);\n",
              "      fill: #174EA6;\n",
              "    }\n",
              "\n",
              "    [theme=dark] .colab-df-convert {\n",
              "      background-color: #3B4455;\n",
              "      fill: #D2E3FC;\n",
              "    }\n",
              "\n",
              "    [theme=dark] .colab-df-convert:hover {\n",
              "      background-color: #434B5C;\n",
              "      box-shadow: 0px 1px 3px 1px rgba(0, 0, 0, 0.15);\n",
              "      filter: drop-shadow(0px 1px 2px rgba(0, 0, 0, 0.3));\n",
              "      fill: #FFFFFF;\n",
              "    }\n",
              "  </style>\n",
              "\n",
              "      <script>\n",
              "        const buttonEl =\n",
              "          document.querySelector('#df-b100724f-ff99-408b-86c1-c1c461ff6433 button.colab-df-convert');\n",
              "        buttonEl.style.display =\n",
              "          google.colab.kernel.accessAllowed ? 'block' : 'none';\n",
              "\n",
              "        async function convertToInteractive(key) {\n",
              "          const element = document.querySelector('#df-b100724f-ff99-408b-86c1-c1c461ff6433');\n",
              "          const dataTable =\n",
              "            await google.colab.kernel.invokeFunction('convertToInteractive',\n",
              "                                                     [key], {});\n",
              "          if (!dataTable) return;\n",
              "\n",
              "          const docLinkHtml = 'Like what you see? Visit the ' +\n",
              "            '<a target=\"_blank\" href=https://colab.research.google.com/notebooks/data_table.ipynb>data table notebook</a>'\n",
              "            + ' to learn more about interactive tables.';\n",
              "          element.innerHTML = '';\n",
              "          dataTable['output_type'] = 'display_data';\n",
              "          await google.colab.output.renderOutput(dataTable, element);\n",
              "          const docLink = document.createElement('div');\n",
              "          docLink.innerHTML = docLinkHtml;\n",
              "          element.appendChild(docLink);\n",
              "        }\n",
              "      </script>\n",
              "    </div>\n",
              "  </div>\n",
              "  "
            ]
          },
          "metadata": {},
          "execution_count": 133
        }
      ]
    },
    {
      "cell_type": "markdown",
      "source": [
        "#### KNN"
      ],
      "metadata": {
        "id": "7YtgbuDf0I5e"
      },
      "id": "7YtgbuDf0I5e"
    },
    {
      "cell_type": "code",
      "source": [
        "word2vec_accuracies = {}\n",
        "\n",
        "k_with_best_accuracy = 0\n",
        "best_accuracy = 0\n",
        "\n",
        "# try to find the best k\n",
        "for k in range(1, 15, 2):\n",
        "  KNN_model = KNeighborsClassifier(n_neighbors = k)\n",
        "  KNN_model.fit(word2vec_x_train, word2vec_y_train)\n",
        "  accuracy = metrics.accuracy_score(expected_results, KNN_model.predict(word2vec_x_test))\n",
        "  if accuracy > best_accuracy:\n",
        "    k_with_best_accuracy = k\n",
        "    best_accuracy = accuracy\n",
        "print('Besk k and its accuracy: {}, {}'.format(k, round(accuracy, 4)))"
      ],
      "metadata": {
        "colab": {
          "base_uri": "https://localhost:8080/"
        },
        "id": "r9x6kDH00KNc",
        "outputId": "2e9c8168-0237-42ac-e15f-313af89da83b"
      },
      "id": "r9x6kDH00KNc",
      "execution_count": 134,
      "outputs": [
        {
          "output_type": "stream",
          "name": "stdout",
          "text": [
            "Besk k and its accuracy: 13, 0.2692\n"
          ]
        }
      ]
    },
    {
      "cell_type": "code",
      "source": [
        "KNN_model = KNeighborsClassifier(n_neighbors = k_with_best_accuracy)\n",
        "KNN_model.fit(word2vec_x_train, word2vec_y_train)\n",
        "predicted_results = KNN_model.predict(word2vec_x_test)\n",
        "accuracy = round(metrics.accuracy_score(expected_results, predicted_results), 4)\n",
        "word2vec_accuracies['KNN'] = accuracy\n",
        "print('Accuracy: ', accuracy)\n",
        "print(metrics.classification_report(expected_results, KNN_model.predict(word2vec_x_test)))"
      ],
      "metadata": {
        "colab": {
          "base_uri": "https://localhost:8080/"
        },
        "id": "RQkmFZje0QkP",
        "outputId": "d7741d06-8a1b-4827-de66-222b9edb6d14"
      },
      "id": "RQkmFZje0QkP",
      "execution_count": 141,
      "outputs": [
        {
          "output_type": "stream",
          "name": "stdout",
          "text": [
            "Accuracy:  0.2697\n",
            "              precision    recall  f1-score   support\n",
            "\n",
            "        ENFJ       0.00      0.00      0.00        38\n",
            "        ENFP       0.15      0.20      0.17       123\n",
            "        ENTJ       0.06      0.02      0.03        41\n",
            "        ENTP       0.15      0.14      0.15       127\n",
            "        ESFJ       0.00      0.00      0.00         7\n",
            "        ESFP       0.00      0.00      0.00        11\n",
            "        ESTJ       0.00      0.00      0.00         5\n",
            "        ESTP       0.00      0.00      0.00        18\n",
            "        INFJ       0.27      0.36      0.31       302\n",
            "        INFP       0.32      0.52      0.40       379\n",
            "        INTJ       0.27      0.20      0.23       213\n",
            "        INTP       0.31      0.25      0.28       293\n",
            "        ISFJ       0.00      0.00      0.00        29\n",
            "        ISFP       0.00      0.00      0.00        61\n",
            "        ISTJ       1.00      0.04      0.07        28\n",
            "        ISTP       0.40      0.03      0.06        60\n",
            "\n",
            "    accuracy                           0.27      1735\n",
            "   macro avg       0.18      0.11      0.11      1735\n",
            "weighted avg       0.26      0.27      0.24      1735\n",
            "\n"
          ]
        }
      ]
    },
    {
      "cell_type": "markdown",
      "source": [
        "#### Naïve Bayes"
      ],
      "metadata": {
        "id": "EKQv5HT_0ZG7"
      },
      "id": "EKQv5HT_0ZG7"
    },
    {
      "cell_type": "code",
      "source": [
        "NB_model = MultinomialNB()\n",
        "NB_model.fit(word2vec_x_train, word2vec_y_train)\n",
        "predicted_results = NB_model.predict(word2vec_x_test)\n",
        "# print(metrics.accuracy_score(expected_results, predicted_results))\n",
        "accuracy = round(metrics.accuracy_score(expected_results, predicted_results), 4)\n",
        "word2vec_accuracies['NB'] = accuracy\n",
        "print('Accuracy: ', accuracy)\n",
        "print(metrics.classification_report(expected_results, predicted_results))"
      ],
      "metadata": {
        "colab": {
          "base_uri": "https://localhost:8080/",
          "height": 382
        },
        "id": "QCED21PY0YN6",
        "outputId": "48318cae-47e0-49f6-a503-cedd2f1765cf"
      },
      "id": "QCED21PY0YN6",
      "execution_count": 136,
      "outputs": [
        {
          "output_type": "error",
          "ename": "ValueError",
          "evalue": "ignored",
          "traceback": [
            "\u001b[0;31m---------------------------------------------------------------------------\u001b[0m",
            "\u001b[0;31mValueError\u001b[0m                                Traceback (most recent call last)",
            "\u001b[0;32m<ipython-input-136-802d763b6a40>\u001b[0m in \u001b[0;36m<module>\u001b[0;34m\u001b[0m\n\u001b[1;32m      1\u001b[0m \u001b[0mNB_model\u001b[0m \u001b[0;34m=\u001b[0m \u001b[0mMultinomialNB\u001b[0m\u001b[0;34m(\u001b[0m\u001b[0;34m)\u001b[0m\u001b[0;34m\u001b[0m\u001b[0;34m\u001b[0m\u001b[0m\n\u001b[0;32m----> 2\u001b[0;31m \u001b[0mNB_model\u001b[0m\u001b[0;34m.\u001b[0m\u001b[0mfit\u001b[0m\u001b[0;34m(\u001b[0m\u001b[0mword2vec_x_train\u001b[0m\u001b[0;34m,\u001b[0m \u001b[0mword2vec_y_train\u001b[0m\u001b[0;34m)\u001b[0m\u001b[0;34m\u001b[0m\u001b[0;34m\u001b[0m\u001b[0m\n\u001b[0m\u001b[1;32m      3\u001b[0m \u001b[0mpredicted_results\u001b[0m \u001b[0;34m=\u001b[0m \u001b[0mNB_model\u001b[0m\u001b[0;34m.\u001b[0m\u001b[0mpredict\u001b[0m\u001b[0;34m(\u001b[0m\u001b[0mword2vec_x_test\u001b[0m\u001b[0;34m)\u001b[0m\u001b[0;34m\u001b[0m\u001b[0;34m\u001b[0m\u001b[0m\n\u001b[1;32m      4\u001b[0m \u001b[0;31m# print(metrics.accuracy_score(expected_results, predicted_results))\u001b[0m\u001b[0;34m\u001b[0m\u001b[0;34m\u001b[0m\u001b[0;34m\u001b[0m\u001b[0m\n\u001b[1;32m      5\u001b[0m \u001b[0maccuracy\u001b[0m \u001b[0;34m=\u001b[0m \u001b[0mround\u001b[0m\u001b[0;34m(\u001b[0m\u001b[0mmetrics\u001b[0m\u001b[0;34m.\u001b[0m\u001b[0maccuracy_score\u001b[0m\u001b[0;34m(\u001b[0m\u001b[0mexpected_results\u001b[0m\u001b[0;34m,\u001b[0m \u001b[0mpredicted_results\u001b[0m\u001b[0;34m)\u001b[0m\u001b[0;34m,\u001b[0m \u001b[0;36m4\u001b[0m\u001b[0;34m)\u001b[0m\u001b[0;34m\u001b[0m\u001b[0;34m\u001b[0m\u001b[0m\n",
            "\u001b[0;32m/usr/local/lib/python3.8/dist-packages/sklearn/naive_bayes.py\u001b[0m in \u001b[0;36mfit\u001b[0;34m(self, X, y, sample_weight)\u001b[0m\n\u001b[1;32m    688\u001b[0m         \u001b[0mn_classes\u001b[0m \u001b[0;34m=\u001b[0m \u001b[0mY\u001b[0m\u001b[0;34m.\u001b[0m\u001b[0mshape\u001b[0m\u001b[0;34m[\u001b[0m\u001b[0;36m1\u001b[0m\u001b[0;34m]\u001b[0m\u001b[0;34m\u001b[0m\u001b[0;34m\u001b[0m\u001b[0m\n\u001b[1;32m    689\u001b[0m         \u001b[0mself\u001b[0m\u001b[0;34m.\u001b[0m\u001b[0m_init_counters\u001b[0m\u001b[0;34m(\u001b[0m\u001b[0mn_classes\u001b[0m\u001b[0;34m,\u001b[0m \u001b[0mn_features\u001b[0m\u001b[0;34m)\u001b[0m\u001b[0;34m\u001b[0m\u001b[0;34m\u001b[0m\u001b[0m\n\u001b[0;32m--> 690\u001b[0;31m         \u001b[0mself\u001b[0m\u001b[0;34m.\u001b[0m\u001b[0m_count\u001b[0m\u001b[0;34m(\u001b[0m\u001b[0mX\u001b[0m\u001b[0;34m,\u001b[0m \u001b[0mY\u001b[0m\u001b[0;34m)\u001b[0m\u001b[0;34m\u001b[0m\u001b[0;34m\u001b[0m\u001b[0m\n\u001b[0m\u001b[1;32m    691\u001b[0m         \u001b[0malpha\u001b[0m \u001b[0;34m=\u001b[0m \u001b[0mself\u001b[0m\u001b[0;34m.\u001b[0m\u001b[0m_check_alpha\u001b[0m\u001b[0;34m(\u001b[0m\u001b[0;34m)\u001b[0m\u001b[0;34m\u001b[0m\u001b[0;34m\u001b[0m\u001b[0m\n\u001b[1;32m    692\u001b[0m         \u001b[0mself\u001b[0m\u001b[0;34m.\u001b[0m\u001b[0m_update_feature_log_prob\u001b[0m\u001b[0;34m(\u001b[0m\u001b[0malpha\u001b[0m\u001b[0;34m)\u001b[0m\u001b[0;34m\u001b[0m\u001b[0;34m\u001b[0m\u001b[0m\n",
            "\u001b[0;32m/usr/local/lib/python3.8/dist-packages/sklearn/naive_bayes.py\u001b[0m in \u001b[0;36m_count\u001b[0;34m(self, X, Y)\u001b[0m\n\u001b[1;32m    861\u001b[0m     \u001b[0;32mdef\u001b[0m \u001b[0m_count\u001b[0m\u001b[0;34m(\u001b[0m\u001b[0mself\u001b[0m\u001b[0;34m,\u001b[0m \u001b[0mX\u001b[0m\u001b[0;34m,\u001b[0m \u001b[0mY\u001b[0m\u001b[0;34m)\u001b[0m\u001b[0;34m:\u001b[0m\u001b[0;34m\u001b[0m\u001b[0;34m\u001b[0m\u001b[0m\n\u001b[1;32m    862\u001b[0m         \u001b[0;34m\"\"\"Count and smooth feature occurrences.\"\"\"\u001b[0m\u001b[0;34m\u001b[0m\u001b[0;34m\u001b[0m\u001b[0m\n\u001b[0;32m--> 863\u001b[0;31m         \u001b[0mcheck_non_negative\u001b[0m\u001b[0;34m(\u001b[0m\u001b[0mX\u001b[0m\u001b[0;34m,\u001b[0m \u001b[0;34m\"MultinomialNB (input X)\"\u001b[0m\u001b[0;34m)\u001b[0m\u001b[0;34m\u001b[0m\u001b[0;34m\u001b[0m\u001b[0m\n\u001b[0m\u001b[1;32m    864\u001b[0m         \u001b[0mself\u001b[0m\u001b[0;34m.\u001b[0m\u001b[0mfeature_count_\u001b[0m \u001b[0;34m+=\u001b[0m \u001b[0msafe_sparse_dot\u001b[0m\u001b[0;34m(\u001b[0m\u001b[0mY\u001b[0m\u001b[0;34m.\u001b[0m\u001b[0mT\u001b[0m\u001b[0;34m,\u001b[0m \u001b[0mX\u001b[0m\u001b[0;34m)\u001b[0m\u001b[0;34m\u001b[0m\u001b[0;34m\u001b[0m\u001b[0m\n\u001b[1;32m    865\u001b[0m         \u001b[0mself\u001b[0m\u001b[0;34m.\u001b[0m\u001b[0mclass_count_\u001b[0m \u001b[0;34m+=\u001b[0m \u001b[0mY\u001b[0m\u001b[0;34m.\u001b[0m\u001b[0msum\u001b[0m\u001b[0;34m(\u001b[0m\u001b[0maxis\u001b[0m\u001b[0;34m=\u001b[0m\u001b[0;36m0\u001b[0m\u001b[0;34m)\u001b[0m\u001b[0;34m\u001b[0m\u001b[0;34m\u001b[0m\u001b[0m\n",
            "\u001b[0;32m/usr/local/lib/python3.8/dist-packages/sklearn/utils/validation.py\u001b[0m in \u001b[0;36mcheck_non_negative\u001b[0;34m(X, whom)\u001b[0m\n\u001b[1;32m   1247\u001b[0m \u001b[0;34m\u001b[0m\u001b[0m\n\u001b[1;32m   1248\u001b[0m     \u001b[0;32mif\u001b[0m \u001b[0mX_min\u001b[0m \u001b[0;34m<\u001b[0m \u001b[0;36m0\u001b[0m\u001b[0;34m:\u001b[0m\u001b[0;34m\u001b[0m\u001b[0;34m\u001b[0m\u001b[0m\n\u001b[0;32m-> 1249\u001b[0;31m         \u001b[0;32mraise\u001b[0m \u001b[0mValueError\u001b[0m\u001b[0;34m(\u001b[0m\u001b[0;34m\"Negative values in data passed to %s\"\u001b[0m \u001b[0;34m%\u001b[0m \u001b[0mwhom\u001b[0m\u001b[0;34m)\u001b[0m\u001b[0;34m\u001b[0m\u001b[0;34m\u001b[0m\u001b[0m\n\u001b[0m\u001b[1;32m   1250\u001b[0m \u001b[0;34m\u001b[0m\u001b[0m\n\u001b[1;32m   1251\u001b[0m \u001b[0;34m\u001b[0m\u001b[0m\n",
            "\u001b[0;31mValueError\u001b[0m: Negative values in data passed to MultinomialNB (input X)"
          ]
        }
      ]
    },
    {
      "cell_type": "markdown",
      "source": [
        "#### SVM"
      ],
      "metadata": {
        "id": "WHdjHi8a0eGY"
      },
      "id": "WHdjHi8a0eGY"
    },
    {
      "cell_type": "code",
      "source": [
        "# about 16seconds\n",
        "\n",
        "SVM_model = SVC(kernel='linear')\n",
        "SVM_model.fit(word2vec_x_train, word2vec_y_train)\n",
        "predicted_results = SVM_model.predict(word2vec_x_test)\n",
        "# print(metrics.accuracy_score(expected_results, predicted_results))\n",
        "accuracy = round(metrics.accuracy_score(expected_results, predicted_results), 4)\n",
        "word2vec_accuracies['SVM'] = accuracy\n",
        "print('Accuracy: ', accuracy)\n",
        "print(metrics.classification_report(expected_results, predicted_results))"
      ],
      "metadata": {
        "colab": {
          "base_uri": "https://localhost:8080/"
        },
        "id": "KREV8cpR0fka",
        "outputId": "a68aa83c-a400-4845-df1d-73b11cdb208b"
      },
      "id": "KREV8cpR0fka",
      "execution_count": 142,
      "outputs": [
        {
          "output_type": "stream",
          "name": "stdout",
          "text": [
            "Accuracy:  0.3061\n",
            "              precision    recall  f1-score   support\n",
            "\n",
            "        ENFJ       0.00      0.00      0.00        38\n",
            "        ENFP       0.00      0.00      0.00       123\n",
            "        ENTJ       0.00      0.00      0.00        41\n",
            "        ENTP       0.00      0.00      0.00       127\n",
            "        ESFJ       0.00      0.00      0.00         7\n",
            "        ESFP       0.00      0.00      0.00        11\n",
            "        ESTJ       0.00      0.00      0.00         5\n",
            "        ESTP       0.00      0.00      0.00        18\n",
            "        INFJ       0.29      0.09      0.13       302\n",
            "        INFP       0.29      0.88      0.43       379\n",
            "        INTJ       0.37      0.07      0.12       213\n",
            "        INTP       0.35      0.54      0.42       293\n",
            "        ISFJ       0.00      0.00      0.00        29\n",
            "        ISFP       0.00      0.00      0.00        61\n",
            "        ISTJ       0.00      0.00      0.00        28\n",
            "        ISTP       0.00      0.00      0.00        60\n",
            "\n",
            "    accuracy                           0.31      1735\n",
            "   macro avg       0.08      0.10      0.07      1735\n",
            "weighted avg       0.22      0.31      0.20      1735\n",
            "\n"
          ]
        }
      ]
    },
    {
      "cell_type": "markdown",
      "source": [
        "#### Random Forest"
      ],
      "metadata": {
        "id": "UynGy74A0h1I"
      },
      "id": "UynGy74A0h1I"
    },
    {
      "cell_type": "code",
      "source": [
        "RandomForest_model = RandomForestClassifier() #n_estimators=20, max_depth=4)\n",
        "RandomForest_model.fit(word2vec_x_train, word2vec_y_train)\n",
        "predicted_results = RandomForest_model.predict(word2vec_x_test)\n",
        "# print(metrics.accuracy_score(expected_results, predicted_results))\n",
        "accuracy = round(metrics.accuracy_score(expected_results, predicted_results), 4)\n",
        "word2vec_accuracies['Random Forest'] = accuracy\n",
        "print('Accuracy: ', accuracy)\n",
        "print(metrics.classification_report(expected_results, predicted_results))"
      ],
      "metadata": {
        "colab": {
          "base_uri": "https://localhost:8080/"
        },
        "id": "oudV9fMv0l4b",
        "outputId": "ae2f9305-fb72-4d1a-e1ed-6bc936147fa1"
      },
      "id": "oudV9fMv0l4b",
      "execution_count": 143,
      "outputs": [
        {
          "output_type": "stream",
          "name": "stdout",
          "text": [
            "Accuracy:  0.3159\n",
            "              precision    recall  f1-score   support\n",
            "\n",
            "        ENFJ       0.00      0.00      0.00        38\n",
            "        ENFP       0.30      0.11      0.16       123\n",
            "        ENTJ       0.00      0.00      0.00        41\n",
            "        ENTP       0.33      0.09      0.15       127\n",
            "        ESFJ       0.00      0.00      0.00         7\n",
            "        ESFP       0.00      0.00      0.00        11\n",
            "        ESTJ       0.00      0.00      0.00         5\n",
            "        ESTP       0.00      0.00      0.00        18\n",
            "        INFJ       0.28      0.31      0.30       302\n",
            "        INFP       0.32      0.64      0.42       379\n",
            "        INTJ       0.26      0.28      0.27       213\n",
            "        INTP       0.40      0.42      0.41       293\n",
            "        ISFJ       0.00      0.00      0.00        29\n",
            "        ISFP       0.00      0.00      0.00        61\n",
            "        ISTJ       0.00      0.00      0.00        28\n",
            "        ISTP       0.00      0.00      0.00        60\n",
            "\n",
            "    accuracy                           0.32      1735\n",
            "   macro avg       0.12      0.12      0.11      1735\n",
            "weighted avg       0.26      0.32      0.27      1735\n",
            "\n"
          ]
        }
      ]
    },
    {
      "cell_type": "markdown",
      "source": [
        "#### XGBoost"
      ],
      "metadata": {
        "id": "94HSkD4D0p8w"
      },
      "id": "94HSkD4D0p8w"
    },
    {
      "cell_type": "code",
      "source": [
        "XGBoost_model = XGBClassifier(tree_method='gpu_hist') #'gpu_hist')\n",
        "XGBoost_model.fit(word2vec_x_train, word2vec_y_train)\n",
        "predicted_results = XGBoost_model.predict(word2vec_x_test)\n",
        "# print(metrics.accuracy_score(expected_results, predicted_results))\n",
        "accuracy = round(metrics.accuracy_score(expected_results, predicted_results), 4)\n",
        "word2vec_accuracies['XGBoost'] = accuracy\n",
        "print('Accuracy: ', accuracy)\n",
        "print(metrics.classification_report(expected_results, predicted_results))"
      ],
      "metadata": {
        "colab": {
          "base_uri": "https://localhost:8080/"
        },
        "id": "h8vAcSN30slA",
        "outputId": "33fe31da-315f-4662-e9d0-6308da413159"
      },
      "id": "h8vAcSN30slA",
      "execution_count": 144,
      "outputs": [
        {
          "output_type": "stream",
          "name": "stdout",
          "text": [
            "Accuracy:  0.3308\n",
            "              precision    recall  f1-score   support\n",
            "\n",
            "        ENFJ       0.00      0.00      0.00        38\n",
            "        ENFP       0.24      0.20      0.22       123\n",
            "        ENTJ       0.17      0.02      0.04        41\n",
            "        ENTP       0.27      0.23      0.25       127\n",
            "        ESFJ       0.00      0.00      0.00         7\n",
            "        ESFP       0.00      0.00      0.00        11\n",
            "        ESTJ       0.00      0.00      0.00         5\n",
            "        ESTP       0.00      0.00      0.00        18\n",
            "        INFJ       0.31      0.33      0.32       302\n",
            "        INFP       0.38      0.62      0.47       379\n",
            "        INTJ       0.28      0.29      0.28       213\n",
            "        INTP       0.35      0.39      0.37       293\n",
            "        ISFJ       0.00      0.00      0.00        29\n",
            "        ISFP       0.00      0.00      0.00        61\n",
            "        ISTJ       0.00      0.00      0.00        28\n",
            "        ISTP       0.43      0.17      0.24        60\n",
            "\n",
            "    accuracy                           0.33      1735\n",
            "   macro avg       0.15      0.14      0.14      1735\n",
            "weighted avg       0.29      0.33      0.30      1735\n",
            "\n"
          ]
        }
      ]
    },
    {
      "cell_type": "markdown",
      "source": [
        "#### Accuracy Summary"
      ],
      "metadata": {
        "id": "eP8i83Kro667"
      },
      "id": "eP8i83Kro667"
    },
    {
      "cell_type": "code",
      "source": [
        "sorted_temp = sorted(word2vec_accuracies.items(), key=lambda x:x[1], reverse=True)\n",
        "sorted_dict = dict(sorted_temp)\n",
        "\n",
        "for model, accuracy in sorted_dict.items():\n",
        "  print('{:14s}: {}'. format(model, accuracy))"
      ],
      "metadata": {
        "colab": {
          "base_uri": "https://localhost:8080/"
        },
        "id": "HhAyuLiro8gk",
        "outputId": "9d4153da-384b-4f58-b57d-cb304cb21120"
      },
      "id": "HhAyuLiro8gk",
      "execution_count": 145,
      "outputs": [
        {
          "output_type": "stream",
          "name": "stdout",
          "text": [
            "XGBoost       : 0.3308\n",
            "Random Forest : 0.3159\n",
            "SVM           : 0.3061\n",
            "KNN           : 0.2697\n"
          ]
        }
      ]
    },
    {
      "cell_type": "markdown",
      "source": [
        "### BERT"
      ],
      "metadata": {
        "id": "wNXvgHjMu6nu"
      },
      "id": "wNXvgHjMu6nu"
    },
    {
      "cell_type": "code",
      "source": [
        "print(bert_x_train.shape)\n",
        "print(bert_x_test.shape)\n",
        "print(bert_y_train.shape)\n",
        "print(bert_y_test.shape)"
      ],
      "metadata": {
        "id": "EuSD687NL-7Y",
        "colab": {
          "base_uri": "https://localhost:8080/"
        },
        "outputId": "798b52f6-c03b-4c16-b8f6-27a7ee416ba9"
      },
      "id": "EuSD687NL-7Y",
      "execution_count": 146,
      "outputs": [
        {
          "output_type": "stream",
          "name": "stdout",
          "text": [
            "(6940, 768)\n",
            "(1735, 768)\n",
            "(6940,)\n",
            "(1735,)\n"
          ]
        }
      ]
    },
    {
      "cell_type": "code",
      "source": [
        "bert_x_train.head()"
      ],
      "metadata": {
        "colab": {
          "base_uri": "https://localhost:8080/",
          "height": 299
        },
        "id": "3kM9WSHa8e_B",
        "outputId": "318e83b1-00c8-4fa3-de91-e9c0c8349489"
      },
      "id": "3kM9WSHa8e_B",
      "execution_count": 147,
      "outputs": [
        {
          "output_type": "execute_result",
          "data": {
            "text/plain": [
              "             0         1         2         3         4         5         6  \\\n",
              "4751  0.402858  0.318011  0.254947  0.049771  0.039180  0.214207 -0.144508   \n",
              "6586  0.467810 -0.137879  0.409783 -0.099868 -0.181403 -0.205526 -0.179753   \n",
              "5535  0.312560  0.241212 -0.036759 -0.181224  0.096001  0.314160 -0.038363   \n",
              "8375  0.063326  0.151152  0.184636 -0.009521  0.226647  0.280900 -0.027736   \n",
              "5724  0.223298  0.120789  0.024652  0.165891  0.539400 -0.097522 -0.257311   \n",
              "\n",
              "             7         8         9  ...       758       759       760  \\\n",
              "4751  0.075794 -0.048228  0.030871  ...  0.046557  0.290464  0.113117   \n",
              "6586 -0.084543 -0.116036  0.242073  ... -0.322750  0.179296  0.214621   \n",
              "5535 -0.210804  0.064968  0.177095  ...  0.129015  0.210811  0.036526   \n",
              "8375 -0.210657 -0.118354  0.025944  ...  0.199705  0.260579 -0.069651   \n",
              "5724  0.019716 -0.019101 -0.006455  ...  0.133186  0.247489  0.146129   \n",
              "\n",
              "           761       762       763       764       765       766       767  \n",
              "4751  0.501106  0.252866 -0.410454 -0.224503 -0.508595  0.456880  0.423962  \n",
              "6586  0.570998  0.179275 -0.625468 -0.577467 -0.475954  0.302637  0.228944  \n",
              "5535  0.803260 -0.088156 -0.715251 -0.775918 -0.498049 -0.003452 -0.112318  \n",
              "8375  0.320997  0.092945 -0.829492 -0.820121 -0.412903  0.380410  0.053854  \n",
              "5724  0.622041  0.150296 -0.596775 -0.279438 -0.197555  0.252011  0.230480  \n",
              "\n",
              "[5 rows x 768 columns]"
            ],
            "text/html": [
              "\n",
              "  <div id=\"df-0a13e2d1-068d-47ee-9495-e34ed095ed2b\">\n",
              "    <div class=\"colab-df-container\">\n",
              "      <div>\n",
              "<style scoped>\n",
              "    .dataframe tbody tr th:only-of-type {\n",
              "        vertical-align: middle;\n",
              "    }\n",
              "\n",
              "    .dataframe tbody tr th {\n",
              "        vertical-align: top;\n",
              "    }\n",
              "\n",
              "    .dataframe thead th {\n",
              "        text-align: right;\n",
              "    }\n",
              "</style>\n",
              "<table border=\"1\" class=\"dataframe\">\n",
              "  <thead>\n",
              "    <tr style=\"text-align: right;\">\n",
              "      <th></th>\n",
              "      <th>0</th>\n",
              "      <th>1</th>\n",
              "      <th>2</th>\n",
              "      <th>3</th>\n",
              "      <th>4</th>\n",
              "      <th>5</th>\n",
              "      <th>6</th>\n",
              "      <th>7</th>\n",
              "      <th>8</th>\n",
              "      <th>9</th>\n",
              "      <th>...</th>\n",
              "      <th>758</th>\n",
              "      <th>759</th>\n",
              "      <th>760</th>\n",
              "      <th>761</th>\n",
              "      <th>762</th>\n",
              "      <th>763</th>\n",
              "      <th>764</th>\n",
              "      <th>765</th>\n",
              "      <th>766</th>\n",
              "      <th>767</th>\n",
              "    </tr>\n",
              "  </thead>\n",
              "  <tbody>\n",
              "    <tr>\n",
              "      <th>4751</th>\n",
              "      <td>0.402858</td>\n",
              "      <td>0.318011</td>\n",
              "      <td>0.254947</td>\n",
              "      <td>0.049771</td>\n",
              "      <td>0.039180</td>\n",
              "      <td>0.214207</td>\n",
              "      <td>-0.144508</td>\n",
              "      <td>0.075794</td>\n",
              "      <td>-0.048228</td>\n",
              "      <td>0.030871</td>\n",
              "      <td>...</td>\n",
              "      <td>0.046557</td>\n",
              "      <td>0.290464</td>\n",
              "      <td>0.113117</td>\n",
              "      <td>0.501106</td>\n",
              "      <td>0.252866</td>\n",
              "      <td>-0.410454</td>\n",
              "      <td>-0.224503</td>\n",
              "      <td>-0.508595</td>\n",
              "      <td>0.456880</td>\n",
              "      <td>0.423962</td>\n",
              "    </tr>\n",
              "    <tr>\n",
              "      <th>6586</th>\n",
              "      <td>0.467810</td>\n",
              "      <td>-0.137879</td>\n",
              "      <td>0.409783</td>\n",
              "      <td>-0.099868</td>\n",
              "      <td>-0.181403</td>\n",
              "      <td>-0.205526</td>\n",
              "      <td>-0.179753</td>\n",
              "      <td>-0.084543</td>\n",
              "      <td>-0.116036</td>\n",
              "      <td>0.242073</td>\n",
              "      <td>...</td>\n",
              "      <td>-0.322750</td>\n",
              "      <td>0.179296</td>\n",
              "      <td>0.214621</td>\n",
              "      <td>0.570998</td>\n",
              "      <td>0.179275</td>\n",
              "      <td>-0.625468</td>\n",
              "      <td>-0.577467</td>\n",
              "      <td>-0.475954</td>\n",
              "      <td>0.302637</td>\n",
              "      <td>0.228944</td>\n",
              "    </tr>\n",
              "    <tr>\n",
              "      <th>5535</th>\n",
              "      <td>0.312560</td>\n",
              "      <td>0.241212</td>\n",
              "      <td>-0.036759</td>\n",
              "      <td>-0.181224</td>\n",
              "      <td>0.096001</td>\n",
              "      <td>0.314160</td>\n",
              "      <td>-0.038363</td>\n",
              "      <td>-0.210804</td>\n",
              "      <td>0.064968</td>\n",
              "      <td>0.177095</td>\n",
              "      <td>...</td>\n",
              "      <td>0.129015</td>\n",
              "      <td>0.210811</td>\n",
              "      <td>0.036526</td>\n",
              "      <td>0.803260</td>\n",
              "      <td>-0.088156</td>\n",
              "      <td>-0.715251</td>\n",
              "      <td>-0.775918</td>\n",
              "      <td>-0.498049</td>\n",
              "      <td>-0.003452</td>\n",
              "      <td>-0.112318</td>\n",
              "    </tr>\n",
              "    <tr>\n",
              "      <th>8375</th>\n",
              "      <td>0.063326</td>\n",
              "      <td>0.151152</td>\n",
              "      <td>0.184636</td>\n",
              "      <td>-0.009521</td>\n",
              "      <td>0.226647</td>\n",
              "      <td>0.280900</td>\n",
              "      <td>-0.027736</td>\n",
              "      <td>-0.210657</td>\n",
              "      <td>-0.118354</td>\n",
              "      <td>0.025944</td>\n",
              "      <td>...</td>\n",
              "      <td>0.199705</td>\n",
              "      <td>0.260579</td>\n",
              "      <td>-0.069651</td>\n",
              "      <td>0.320997</td>\n",
              "      <td>0.092945</td>\n",
              "      <td>-0.829492</td>\n",
              "      <td>-0.820121</td>\n",
              "      <td>-0.412903</td>\n",
              "      <td>0.380410</td>\n",
              "      <td>0.053854</td>\n",
              "    </tr>\n",
              "    <tr>\n",
              "      <th>5724</th>\n",
              "      <td>0.223298</td>\n",
              "      <td>0.120789</td>\n",
              "      <td>0.024652</td>\n",
              "      <td>0.165891</td>\n",
              "      <td>0.539400</td>\n",
              "      <td>-0.097522</td>\n",
              "      <td>-0.257311</td>\n",
              "      <td>0.019716</td>\n",
              "      <td>-0.019101</td>\n",
              "      <td>-0.006455</td>\n",
              "      <td>...</td>\n",
              "      <td>0.133186</td>\n",
              "      <td>0.247489</td>\n",
              "      <td>0.146129</td>\n",
              "      <td>0.622041</td>\n",
              "      <td>0.150296</td>\n",
              "      <td>-0.596775</td>\n",
              "      <td>-0.279438</td>\n",
              "      <td>-0.197555</td>\n",
              "      <td>0.252011</td>\n",
              "      <td>0.230480</td>\n",
              "    </tr>\n",
              "  </tbody>\n",
              "</table>\n",
              "<p>5 rows × 768 columns</p>\n",
              "</div>\n",
              "      <button class=\"colab-df-convert\" onclick=\"convertToInteractive('df-0a13e2d1-068d-47ee-9495-e34ed095ed2b')\"\n",
              "              title=\"Convert this dataframe to an interactive table.\"\n",
              "              style=\"display:none;\">\n",
              "        \n",
              "  <svg xmlns=\"http://www.w3.org/2000/svg\" height=\"24px\"viewBox=\"0 0 24 24\"\n",
              "       width=\"24px\">\n",
              "    <path d=\"M0 0h24v24H0V0z\" fill=\"none\"/>\n",
              "    <path d=\"M18.56 5.44l.94 2.06.94-2.06 2.06-.94-2.06-.94-.94-2.06-.94 2.06-2.06.94zm-11 1L8.5 8.5l.94-2.06 2.06-.94-2.06-.94L8.5 2.5l-.94 2.06-2.06.94zm10 10l.94 2.06.94-2.06 2.06-.94-2.06-.94-.94-2.06-.94 2.06-2.06.94z\"/><path d=\"M17.41 7.96l-1.37-1.37c-.4-.4-.92-.59-1.43-.59-.52 0-1.04.2-1.43.59L10.3 9.45l-7.72 7.72c-.78.78-.78 2.05 0 2.83L4 21.41c.39.39.9.59 1.41.59.51 0 1.02-.2 1.41-.59l7.78-7.78 2.81-2.81c.8-.78.8-2.07 0-2.86zM5.41 20L4 18.59l7.72-7.72 1.47 1.35L5.41 20z\"/>\n",
              "  </svg>\n",
              "      </button>\n",
              "      \n",
              "  <style>\n",
              "    .colab-df-container {\n",
              "      display:flex;\n",
              "      flex-wrap:wrap;\n",
              "      gap: 12px;\n",
              "    }\n",
              "\n",
              "    .colab-df-convert {\n",
              "      background-color: #E8F0FE;\n",
              "      border: none;\n",
              "      border-radius: 50%;\n",
              "      cursor: pointer;\n",
              "      display: none;\n",
              "      fill: #1967D2;\n",
              "      height: 32px;\n",
              "      padding: 0 0 0 0;\n",
              "      width: 32px;\n",
              "    }\n",
              "\n",
              "    .colab-df-convert:hover {\n",
              "      background-color: #E2EBFA;\n",
              "      box-shadow: 0px 1px 2px rgba(60, 64, 67, 0.3), 0px 1px 3px 1px rgba(60, 64, 67, 0.15);\n",
              "      fill: #174EA6;\n",
              "    }\n",
              "\n",
              "    [theme=dark] .colab-df-convert {\n",
              "      background-color: #3B4455;\n",
              "      fill: #D2E3FC;\n",
              "    }\n",
              "\n",
              "    [theme=dark] .colab-df-convert:hover {\n",
              "      background-color: #434B5C;\n",
              "      box-shadow: 0px 1px 3px 1px rgba(0, 0, 0, 0.15);\n",
              "      filter: drop-shadow(0px 1px 2px rgba(0, 0, 0, 0.3));\n",
              "      fill: #FFFFFF;\n",
              "    }\n",
              "  </style>\n",
              "\n",
              "      <script>\n",
              "        const buttonEl =\n",
              "          document.querySelector('#df-0a13e2d1-068d-47ee-9495-e34ed095ed2b button.colab-df-convert');\n",
              "        buttonEl.style.display =\n",
              "          google.colab.kernel.accessAllowed ? 'block' : 'none';\n",
              "\n",
              "        async function convertToInteractive(key) {\n",
              "          const element = document.querySelector('#df-0a13e2d1-068d-47ee-9495-e34ed095ed2b');\n",
              "          const dataTable =\n",
              "            await google.colab.kernel.invokeFunction('convertToInteractive',\n",
              "                                                     [key], {});\n",
              "          if (!dataTable) return;\n",
              "\n",
              "          const docLinkHtml = 'Like what you see? Visit the ' +\n",
              "            '<a target=\"_blank\" href=https://colab.research.google.com/notebooks/data_table.ipynb>data table notebook</a>'\n",
              "            + ' to learn more about interactive tables.';\n",
              "          element.innerHTML = '';\n",
              "          dataTable['output_type'] = 'display_data';\n",
              "          await google.colab.output.renderOutput(dataTable, element);\n",
              "          const docLink = document.createElement('div');\n",
              "          docLink.innerHTML = docLinkHtml;\n",
              "          element.appendChild(docLink);\n",
              "        }\n",
              "      </script>\n",
              "    </div>\n",
              "  </div>\n",
              "  "
            ]
          },
          "metadata": {},
          "execution_count": 147
        }
      ]
    },
    {
      "cell_type": "markdown",
      "source": [
        "#### KNN"
      ],
      "metadata": {
        "id": "Oxj1vQYf8fT6"
      },
      "id": "Oxj1vQYf8fT6"
    },
    {
      "cell_type": "code",
      "source": [
        "bert_accuracies = {}\n",
        "\n",
        "k_with_best_accuracy = 0\n",
        "best_accuracy = 0\n",
        "\n",
        "# try to find the best k\n",
        "for k in range(1, 15, 2):\n",
        "  KNN_model = KNeighborsClassifier(n_neighbors = k)\n",
        "  KNN_model.fit(bert_x_train, bert_y_train)\n",
        "  accuracy = metrics.accuracy_score(expected_results, KNN_model.predict(bert_x_test))\n",
        "  if accuracy > best_accuracy:\n",
        "    k_with_best_accuracy = k\n",
        "    best_accuracy = accuracy\n",
        "print('Besk k and its accuracy: {}, {}'.format(k, round(accuracy, 4)))"
      ],
      "metadata": {
        "colab": {
          "base_uri": "https://localhost:8080/"
        },
        "id": "_6IV7olp8oaB",
        "outputId": "f13a7982-ae45-4e99-b6bc-08fcb8670f14"
      },
      "id": "_6IV7olp8oaB",
      "execution_count": 148,
      "outputs": [
        {
          "output_type": "stream",
          "name": "stdout",
          "text": [
            "Besk k and its accuracy: 13, 0.2571\n"
          ]
        }
      ]
    },
    {
      "cell_type": "code",
      "source": [
        "KNN_model = KNeighborsClassifier(n_neighbors = k_with_best_accuracy)\n",
        "KNN_model.fit(bert_x_train, bert_y_train)\n",
        "predicted_results = KNN_model.predict(bert_x_test)\n",
        "accuracy = round(metrics.accuracy_score(expected_results, predicted_results), 4)\n",
        "bert_accuracies['KNN'] = accuracy\n",
        "print('Accuracy: ', accuracy)\n",
        "print(metrics.classification_report(expected_results, KNN_model.predict(bert_x_test)))"
      ],
      "metadata": {
        "colab": {
          "base_uri": "https://localhost:8080/"
        },
        "id": "FI-UC82P8qNv",
        "outputId": "ff0d294c-e702-49f8-ddc0-8f4ef69b1c89"
      },
      "id": "FI-UC82P8qNv",
      "execution_count": 149,
      "outputs": [
        {
          "output_type": "stream",
          "name": "stdout",
          "text": [
            "Accuracy:  0.2571\n",
            "              precision    recall  f1-score   support\n",
            "\n",
            "        ENFJ       0.00      0.00      0.00        38\n",
            "        ENFP       0.23      0.31      0.26       123\n",
            "        ENTJ       0.00      0.00      0.00        41\n",
            "        ENTP       0.17      0.17      0.17       127\n",
            "        ESFJ       0.00      0.00      0.00         7\n",
            "        ESFP       0.00      0.00      0.00        11\n",
            "        ESTJ       0.00      0.00      0.00         5\n",
            "        ESTP       0.00      0.00      0.00        18\n",
            "        INFJ       0.23      0.37      0.28       302\n",
            "        INFP       0.32      0.48      0.38       379\n",
            "        INTJ       0.26      0.17      0.21       213\n",
            "        INTP       0.30      0.18      0.23       293\n",
            "        ISFJ       0.00      0.00      0.00        29\n",
            "        ISFP       0.00      0.00      0.00        61\n",
            "        ISTJ       0.00      0.00      0.00        28\n",
            "        ISTP       0.33      0.03      0.06        60\n",
            "\n",
            "    accuracy                           0.26      1735\n",
            "   macro avg       0.11      0.11      0.10      1735\n",
            "weighted avg       0.23      0.26      0.23      1735\n",
            "\n"
          ]
        }
      ]
    },
    {
      "cell_type": "markdown",
      "source": [
        "#### Naïve Bayes"
      ],
      "metadata": {
        "id": "akI3noYT8gpL"
      },
      "id": "akI3noYT8gpL"
    },
    {
      "cell_type": "code",
      "source": [
        "NB_model = MultinomialNB()\n",
        "NB_model.fit(bert_x_train, bert_y_train)\n",
        "predicted_results = NB_model.predict(bert_x_test)\n",
        "# print(metrics.accuracy_score(expected_results, predicted_results))\n",
        "accuracy = round(metrics.accuracy_score(expected_results, predicted_results), 4)\n",
        "bert_accuracies['NB'] = accuracy\n",
        "print('Accuracy: ', accuracy)\n",
        "print(metrics.classification_report(expected_results, predicted_results))"
      ],
      "metadata": {
        "id": "OauuYtmA8r1s",
        "colab": {
          "base_uri": "https://localhost:8080/",
          "height": 382
        },
        "outputId": "905e936f-0bef-4f11-9bc4-d2b0d4aad1fb"
      },
      "id": "OauuYtmA8r1s",
      "execution_count": 150,
      "outputs": [
        {
          "output_type": "error",
          "ename": "ValueError",
          "evalue": "ignored",
          "traceback": [
            "\u001b[0;31m---------------------------------------------------------------------------\u001b[0m",
            "\u001b[0;31mValueError\u001b[0m                                Traceback (most recent call last)",
            "\u001b[0;32m<ipython-input-150-c1850b6b91e9>\u001b[0m in \u001b[0;36m<module>\u001b[0;34m\u001b[0m\n\u001b[1;32m      1\u001b[0m \u001b[0mNB_model\u001b[0m \u001b[0;34m=\u001b[0m \u001b[0mMultinomialNB\u001b[0m\u001b[0;34m(\u001b[0m\u001b[0;34m)\u001b[0m\u001b[0;34m\u001b[0m\u001b[0;34m\u001b[0m\u001b[0m\n\u001b[0;32m----> 2\u001b[0;31m \u001b[0mNB_model\u001b[0m\u001b[0;34m.\u001b[0m\u001b[0mfit\u001b[0m\u001b[0;34m(\u001b[0m\u001b[0mbert_x_train\u001b[0m\u001b[0;34m,\u001b[0m \u001b[0mbert_y_train\u001b[0m\u001b[0;34m)\u001b[0m\u001b[0;34m\u001b[0m\u001b[0;34m\u001b[0m\u001b[0m\n\u001b[0m\u001b[1;32m      3\u001b[0m \u001b[0mpredicted_results\u001b[0m \u001b[0;34m=\u001b[0m \u001b[0mNB_model\u001b[0m\u001b[0;34m.\u001b[0m\u001b[0mpredict\u001b[0m\u001b[0;34m(\u001b[0m\u001b[0mbert_x_test\u001b[0m\u001b[0;34m)\u001b[0m\u001b[0;34m\u001b[0m\u001b[0;34m\u001b[0m\u001b[0m\n\u001b[1;32m      4\u001b[0m \u001b[0;31m# print(metrics.accuracy_score(expected_results, predicted_results))\u001b[0m\u001b[0;34m\u001b[0m\u001b[0;34m\u001b[0m\u001b[0;34m\u001b[0m\u001b[0m\n\u001b[1;32m      5\u001b[0m \u001b[0maccuracy\u001b[0m \u001b[0;34m=\u001b[0m \u001b[0mround\u001b[0m\u001b[0;34m(\u001b[0m\u001b[0mmetrics\u001b[0m\u001b[0;34m.\u001b[0m\u001b[0maccuracy_score\u001b[0m\u001b[0;34m(\u001b[0m\u001b[0mexpected_results\u001b[0m\u001b[0;34m,\u001b[0m \u001b[0mpredicted_results\u001b[0m\u001b[0;34m)\u001b[0m\u001b[0;34m,\u001b[0m \u001b[0;36m4\u001b[0m\u001b[0;34m)\u001b[0m\u001b[0;34m\u001b[0m\u001b[0;34m\u001b[0m\u001b[0m\n",
            "\u001b[0;32m/usr/local/lib/python3.8/dist-packages/sklearn/naive_bayes.py\u001b[0m in \u001b[0;36mfit\u001b[0;34m(self, X, y, sample_weight)\u001b[0m\n\u001b[1;32m    688\u001b[0m         \u001b[0mn_classes\u001b[0m \u001b[0;34m=\u001b[0m \u001b[0mY\u001b[0m\u001b[0;34m.\u001b[0m\u001b[0mshape\u001b[0m\u001b[0;34m[\u001b[0m\u001b[0;36m1\u001b[0m\u001b[0;34m]\u001b[0m\u001b[0;34m\u001b[0m\u001b[0;34m\u001b[0m\u001b[0m\n\u001b[1;32m    689\u001b[0m         \u001b[0mself\u001b[0m\u001b[0;34m.\u001b[0m\u001b[0m_init_counters\u001b[0m\u001b[0;34m(\u001b[0m\u001b[0mn_classes\u001b[0m\u001b[0;34m,\u001b[0m \u001b[0mn_features\u001b[0m\u001b[0;34m)\u001b[0m\u001b[0;34m\u001b[0m\u001b[0;34m\u001b[0m\u001b[0m\n\u001b[0;32m--> 690\u001b[0;31m         \u001b[0mself\u001b[0m\u001b[0;34m.\u001b[0m\u001b[0m_count\u001b[0m\u001b[0;34m(\u001b[0m\u001b[0mX\u001b[0m\u001b[0;34m,\u001b[0m \u001b[0mY\u001b[0m\u001b[0;34m)\u001b[0m\u001b[0;34m\u001b[0m\u001b[0;34m\u001b[0m\u001b[0m\n\u001b[0m\u001b[1;32m    691\u001b[0m         \u001b[0malpha\u001b[0m \u001b[0;34m=\u001b[0m \u001b[0mself\u001b[0m\u001b[0;34m.\u001b[0m\u001b[0m_check_alpha\u001b[0m\u001b[0;34m(\u001b[0m\u001b[0;34m)\u001b[0m\u001b[0;34m\u001b[0m\u001b[0;34m\u001b[0m\u001b[0m\n\u001b[1;32m    692\u001b[0m         \u001b[0mself\u001b[0m\u001b[0;34m.\u001b[0m\u001b[0m_update_feature_log_prob\u001b[0m\u001b[0;34m(\u001b[0m\u001b[0malpha\u001b[0m\u001b[0;34m)\u001b[0m\u001b[0;34m\u001b[0m\u001b[0;34m\u001b[0m\u001b[0m\n",
            "\u001b[0;32m/usr/local/lib/python3.8/dist-packages/sklearn/naive_bayes.py\u001b[0m in \u001b[0;36m_count\u001b[0;34m(self, X, Y)\u001b[0m\n\u001b[1;32m    861\u001b[0m     \u001b[0;32mdef\u001b[0m \u001b[0m_count\u001b[0m\u001b[0;34m(\u001b[0m\u001b[0mself\u001b[0m\u001b[0;34m,\u001b[0m \u001b[0mX\u001b[0m\u001b[0;34m,\u001b[0m \u001b[0mY\u001b[0m\u001b[0;34m)\u001b[0m\u001b[0;34m:\u001b[0m\u001b[0;34m\u001b[0m\u001b[0;34m\u001b[0m\u001b[0m\n\u001b[1;32m    862\u001b[0m         \u001b[0;34m\"\"\"Count and smooth feature occurrences.\"\"\"\u001b[0m\u001b[0;34m\u001b[0m\u001b[0;34m\u001b[0m\u001b[0m\n\u001b[0;32m--> 863\u001b[0;31m         \u001b[0mcheck_non_negative\u001b[0m\u001b[0;34m(\u001b[0m\u001b[0mX\u001b[0m\u001b[0;34m,\u001b[0m \u001b[0;34m\"MultinomialNB (input X)\"\u001b[0m\u001b[0;34m)\u001b[0m\u001b[0;34m\u001b[0m\u001b[0;34m\u001b[0m\u001b[0m\n\u001b[0m\u001b[1;32m    864\u001b[0m         \u001b[0mself\u001b[0m\u001b[0;34m.\u001b[0m\u001b[0mfeature_count_\u001b[0m \u001b[0;34m+=\u001b[0m \u001b[0msafe_sparse_dot\u001b[0m\u001b[0;34m(\u001b[0m\u001b[0mY\u001b[0m\u001b[0;34m.\u001b[0m\u001b[0mT\u001b[0m\u001b[0;34m,\u001b[0m \u001b[0mX\u001b[0m\u001b[0;34m)\u001b[0m\u001b[0;34m\u001b[0m\u001b[0;34m\u001b[0m\u001b[0m\n\u001b[1;32m    865\u001b[0m         \u001b[0mself\u001b[0m\u001b[0;34m.\u001b[0m\u001b[0mclass_count_\u001b[0m \u001b[0;34m+=\u001b[0m \u001b[0mY\u001b[0m\u001b[0;34m.\u001b[0m\u001b[0msum\u001b[0m\u001b[0;34m(\u001b[0m\u001b[0maxis\u001b[0m\u001b[0;34m=\u001b[0m\u001b[0;36m0\u001b[0m\u001b[0;34m)\u001b[0m\u001b[0;34m\u001b[0m\u001b[0;34m\u001b[0m\u001b[0m\n",
            "\u001b[0;32m/usr/local/lib/python3.8/dist-packages/sklearn/utils/validation.py\u001b[0m in \u001b[0;36mcheck_non_negative\u001b[0;34m(X, whom)\u001b[0m\n\u001b[1;32m   1247\u001b[0m \u001b[0;34m\u001b[0m\u001b[0m\n\u001b[1;32m   1248\u001b[0m     \u001b[0;32mif\u001b[0m \u001b[0mX_min\u001b[0m \u001b[0;34m<\u001b[0m \u001b[0;36m0\u001b[0m\u001b[0;34m:\u001b[0m\u001b[0;34m\u001b[0m\u001b[0;34m\u001b[0m\u001b[0m\n\u001b[0;32m-> 1249\u001b[0;31m         \u001b[0;32mraise\u001b[0m \u001b[0mValueError\u001b[0m\u001b[0;34m(\u001b[0m\u001b[0;34m\"Negative values in data passed to %s\"\u001b[0m \u001b[0;34m%\u001b[0m \u001b[0mwhom\u001b[0m\u001b[0;34m)\u001b[0m\u001b[0;34m\u001b[0m\u001b[0;34m\u001b[0m\u001b[0m\n\u001b[0m\u001b[1;32m   1250\u001b[0m \u001b[0;34m\u001b[0m\u001b[0m\n\u001b[1;32m   1251\u001b[0m \u001b[0;34m\u001b[0m\u001b[0m\n",
            "\u001b[0;31mValueError\u001b[0m: Negative values in data passed to MultinomialNB (input X)"
          ]
        }
      ]
    },
    {
      "cell_type": "markdown",
      "source": [
        "#### SVM"
      ],
      "metadata": {
        "id": "x5Oo2hLK8iy9"
      },
      "id": "x5Oo2hLK8iy9"
    },
    {
      "cell_type": "code",
      "source": [
        "# about 40seconds\n",
        "\n",
        "SVM_model = SVC(kernel='linear')\n",
        "SVM_model.fit(bert_x_train, bert_y_train)\n",
        "predicted_results = SVM_model.predict(bert_x_test)\n",
        "# print(metrics.accuracy_score(expected_results, predicted_results))\n",
        "accuracy = round(metrics.accuracy_score(expected_results, predicted_results), 4)\n",
        "bert_accuracies['SVM'] = accuracy\n",
        "print('Accuracy: ', accuracy)\n",
        "print(metrics.classification_report(expected_results, predicted_results))"
      ],
      "metadata": {
        "colab": {
          "base_uri": "https://localhost:8080/"
        },
        "id": "bMfZWZrB8s-0",
        "outputId": "f1b3d9d4-0731-4ef1-f560-9464f6fb233f"
      },
      "id": "bMfZWZrB8s-0",
      "execution_count": 151,
      "outputs": [
        {
          "output_type": "stream",
          "name": "stdout",
          "text": [
            "Accuracy:  0.3378\n",
            "              precision    recall  f1-score   support\n",
            "\n",
            "        ENFJ       0.13      0.16      0.14        38\n",
            "        ENFP       0.24      0.27      0.25       123\n",
            "        ENTJ       0.13      0.15      0.14        41\n",
            "        ENTP       0.22      0.23      0.23       127\n",
            "        ESFJ       0.00      0.00      0.00         7\n",
            "        ESFP       0.08      0.09      0.08        11\n",
            "        ESTJ       0.00      0.00      0.00         5\n",
            "        ESTP       0.14      0.22      0.17        18\n",
            "        INFJ       0.37      0.41      0.39       302\n",
            "        INFP       0.45      0.46      0.46       379\n",
            "        INTJ       0.35      0.34      0.35       213\n",
            "        INTP       0.43      0.35      0.39       293\n",
            "        ISFJ       0.28      0.24      0.26        29\n",
            "        ISFP       0.19      0.10      0.13        61\n",
            "        ISTJ       0.13      0.14      0.14        28\n",
            "        ISTP       0.27      0.25      0.26        60\n",
            "\n",
            "    accuracy                           0.34      1735\n",
            "   macro avg       0.21      0.21      0.21      1735\n",
            "weighted avg       0.34      0.34      0.34      1735\n",
            "\n"
          ]
        }
      ]
    },
    {
      "cell_type": "markdown",
      "source": [
        "#### Random Forest"
      ],
      "metadata": {
        "id": "s_rUllF18kC4"
      },
      "id": "s_rUllF18kC4"
    },
    {
      "cell_type": "code",
      "source": [
        "RandomForest_model = RandomForestClassifier() #n_estimators=20, max_depth=4)\n",
        "RandomForest_model.fit(bert_x_train, bert_y_train)\n",
        "predicted_results = RandomForest_model.predict(bert_x_test)\n",
        "# print(metrics.accuracy_score(expected_results, predicted_results))\n",
        "accuracy = round(metrics.accuracy_score(expected_results, predicted_results), 4)\n",
        "bert_accuracies['Random Forest'] = accuracy\n",
        "print('Accuracy: ', accuracy)\n",
        "print(metrics.classification_report(expected_results, predicted_results))"
      ],
      "metadata": {
        "colab": {
          "base_uri": "https://localhost:8080/"
        },
        "id": "N6R8OpWm8uHH",
        "outputId": "685f64ba-9e62-40af-bdca-848f2ab90565"
      },
      "id": "N6R8OpWm8uHH",
      "execution_count": 152,
      "outputs": [
        {
          "output_type": "stream",
          "name": "stdout",
          "text": [
            "Accuracy:  0.298\n",
            "              precision    recall  f1-score   support\n",
            "\n",
            "        ENFJ       0.00      0.00      0.00        38\n",
            "        ENFP       0.36      0.08      0.13       123\n",
            "        ENTJ       0.00      0.00      0.00        41\n",
            "        ENTP       0.22      0.06      0.09       127\n",
            "        ESFJ       0.00      0.00      0.00         7\n",
            "        ESFP       0.00      0.00      0.00        11\n",
            "        ESTJ       0.00      0.00      0.00         5\n",
            "        ESTP       0.00      0.00      0.00        18\n",
            "        INFJ       0.29      0.36      0.32       302\n",
            "        INFP       0.31      0.68      0.43       379\n",
            "        INTJ       0.24      0.18      0.20       213\n",
            "        INTP       0.30      0.32      0.31       293\n",
            "        ISFJ       0.00      0.00      0.00        29\n",
            "        ISFP       0.00      0.00      0.00        61\n",
            "        ISTJ       0.00      0.00      0.00        28\n",
            "        ISTP       0.00      0.00      0.00        60\n",
            "\n",
            "    accuracy                           0.30      1735\n",
            "   macro avg       0.11      0.10      0.09      1735\n",
            "weighted avg       0.24      0.30      0.24      1735\n",
            "\n"
          ]
        }
      ]
    },
    {
      "cell_type": "markdown",
      "source": [
        "#### XGBoost"
      ],
      "metadata": {
        "id": "kAPvjvqX8lcr"
      },
      "id": "kAPvjvqX8lcr"
    },
    {
      "cell_type": "code",
      "source": [
        "XGBoost_model = XGBClassifier(tree_method='gpu_hist')\n",
        "XGBoost_model.fit(bert_x_train, bert_y_train)\n",
        "predicted_results = XGBoost_model.predict(bert_x_test)\n",
        "# print(metrics.accuracy_score(expected_results, predicted_results))\n",
        "accuracy = round(metrics.accuracy_score(expected_results, predicted_results), 4)\n",
        "bert_accuracies['XGBoost'] = accuracy\n",
        "print('Accuracy: ', accuracy)\n",
        "print(metrics.classification_report(expected_results, predicted_results))"
      ],
      "metadata": {
        "colab": {
          "base_uri": "https://localhost:8080/"
        },
        "id": "43eKi6G68mxe",
        "outputId": "5377acf1-cad7-4035-f7b8-9543f28dce8d"
      },
      "id": "43eKi6G68mxe",
      "execution_count": 153,
      "outputs": [
        {
          "output_type": "stream",
          "name": "stdout",
          "text": [
            "Accuracy:  0.3314\n",
            "              precision    recall  f1-score   support\n",
            "\n",
            "        ENFJ       0.00      0.00      0.00        38\n",
            "        ENFP       0.33      0.18      0.23       123\n",
            "        ENTJ       0.00      0.00      0.00        41\n",
            "        ENTP       0.27      0.20      0.23       127\n",
            "        ESFJ       0.00      0.00      0.00         7\n",
            "        ESFP       0.00      0.00      0.00        11\n",
            "        ESTJ       0.00      0.00      0.00         5\n",
            "        ESTP       0.00      0.00      0.00        18\n",
            "        INFJ       0.32      0.35      0.34       302\n",
            "        INFP       0.35      0.64      0.45       379\n",
            "        INTJ       0.27      0.25      0.26       213\n",
            "        INTP       0.37      0.43      0.40       293\n",
            "        ISFJ       0.00      0.00      0.00        29\n",
            "        ISFP       0.00      0.00      0.00        61\n",
            "        ISTJ       0.00      0.00      0.00        28\n",
            "        ISTP       0.20      0.05      0.08        60\n",
            "\n",
            "    accuracy                           0.33      1735\n",
            "   macro avg       0.13      0.13      0.12      1735\n",
            "weighted avg       0.28      0.33      0.29      1735\n",
            "\n"
          ]
        }
      ]
    },
    {
      "cell_type": "markdown",
      "source": [
        "#### Accuracy Summary"
      ],
      "metadata": {
        "id": "hbRUlWQHq1Q3"
      },
      "id": "hbRUlWQHq1Q3"
    },
    {
      "cell_type": "code",
      "source": [
        "sorted_temp = sorted(bert_accuracies.items(), key=lambda x:x[1], reverse=True)\n",
        "sorted_dict = dict(sorted_temp)\n",
        "\n",
        "for model, accuracy in sorted_dict.items():\n",
        "  print('{:14s}: {}'. format(model, accuracy))"
      ],
      "metadata": {
        "colab": {
          "base_uri": "https://localhost:8080/"
        },
        "id": "aKknzVAQq6Gb",
        "outputId": "36709933-43ce-41f4-bfa9-a0facbc94c92"
      },
      "id": "aKknzVAQq6Gb",
      "execution_count": 154,
      "outputs": [
        {
          "output_type": "stream",
          "name": "stdout",
          "text": [
            "SVM           : 0.3378\n",
            "XGBoost       : 0.3314\n",
            "Random Forest : 0.298\n",
            "KNN           : 0.2571\n"
          ]
        }
      ]
    },
    {
      "cell_type": "markdown",
      "source": [
        "## Predict with 4 classfiers\n",
        "嘗試用四個classfier分別對user的E/I, N/S, F/T, J/P進行預測"
      ],
      "metadata": {
        "id": "XfBV_l8PGNjB"
      },
      "id": "XfBV_l8PGNjB"
    },
    {
      "cell_type": "code",
      "source": [
        "tfidf_corpus = pd.read_csv(folderPath+'mbti_tfidf.csv')\n",
        "word2vec_corpus = pd.read_csv(folderPath+'MBTI_w2v.csv')\n",
        "bert_corpus = pd.read_csv(folderPath+'mbti_bert_CLS.csv')"
      ],
      "metadata": {
        "id": "Nh5FcL1iLMPo"
      },
      "id": "Nh5FcL1iLMPo",
      "execution_count": 155,
      "outputs": []
    },
    {
      "cell_type": "code",
      "source": [
        "# 0 for E, 1 for I\n",
        "def extractEI(row):  \n",
        "  if row['label_type'][0] == \"E\":\n",
        "    return 'E'\n",
        "  elif row['label_type'][0] == 'I':\n",
        "    return 'I'\n",
        "# 0 for N, 1 for S\n",
        "def extractNS(row):  \n",
        "  if row['label_type'][1] == \"N\":\n",
        "    return 'N'\n",
        "  elif row['label_type'][1] == 'S':\n",
        "    return 'S'\n",
        "# 0 for F, 1 for T\n",
        "def extractFT(row):  \n",
        "  if row['label_type'][2] == \"F\":\n",
        "    return 'F'\n",
        "  elif row['label_type'][2] == 'T':\n",
        "    return 'T'\n",
        "# 0 for J, 1 for P\n",
        "def extractJP(row):  \n",
        "  if row['label_type'][3] == \"J\":\n",
        "    return 'J'\n",
        "  elif row['label_type'][3] == 'P':\n",
        "    return 'P'"
      ],
      "metadata": {
        "id": "3unAw6hGLuxP"
      },
      "id": "3unAw6hGLuxP",
      "execution_count": 156,
      "outputs": []
    },
    {
      "cell_type": "code",
      "source": [
        "def KNNClassifier(x_train, y_train, x_test, y_test):\n",
        "  predicted_result_list = []\n",
        "  for label_category in label_categories:\n",
        "    expected_results = []\n",
        "    expected_results.extend(tfidf_y_test[label_category])\n",
        "    KNN_model = KNeighborsClassifier(n_neighbors = k_with_best_accuracy)\n",
        "    KNN_model.fit(x_train, y_train[label_category])\n",
        "    predicted_results = KNN_model.predict(x_test)\n",
        "    accuracy = round(metrics.accuracy_score(expected_results, predicted_results), 4)\n",
        "    print('Accuracy for {} classfier: {}'.format(label_category, accuracy))\n",
        "    # print(metrics.classification_report(expected_results, predicted_results))\n",
        "    predicted_result_list.append(predicted_results)\n",
        "  predicted_mbti_list = ['']*len(y_test)\n",
        "  for predicted_result in predicted_result_list:\n",
        "    for idx, ele in enumerate(predicted_result):\n",
        "      # print(idx, ele)\n",
        "      predicted_mbti_list[idx] += ele\n",
        "\n",
        "  # calculate accuracy\n",
        "  count = 0\n",
        "  for predicted, expected in zip(predicted_mbti_list, y_test['label_type']):\n",
        "    if predicted == expected:\n",
        "      count += 1\n",
        "  accuracy = round(count/len(predicted_mbti_list), 4)\n",
        "  print('Accuracy of KNN: {}'.format(accuracy))\n",
        "\n",
        "  return predicted_mbti_list, accuracy "
      ],
      "metadata": {
        "id": "pkl-wNnZmIiQ"
      },
      "id": "pkl-wNnZmIiQ",
      "execution_count": 157,
      "outputs": []
    },
    {
      "cell_type": "code",
      "source": [
        "from sklearn. naive_bayes import MultinomialNB\n",
        "\n",
        "def NBClassifier(x_train, y_train, x_test, y_test):\n",
        "  predicted_result_list = []\n",
        "  for label_category in label_categories:\n",
        "    expected_results = []\n",
        "    expected_results.extend(tfidf_y_test[label_category])\n",
        "    NB_model = MultinomialNB()\n",
        "    NB_model.fit(x_train, y_train[label_category])\n",
        "    predicted_results = NB_model.predict(x_test)\n",
        "    accuracy = round(metrics.accuracy_score(expected_results, predicted_results), 4)\n",
        "    print('Accuracy for {} classfier: {}'.format(label_category, accuracy))\n",
        "    # print(metrics.classification_report(expected_results, predicted_results))\n",
        "    predicted_result_list.append(predicted_results)\n",
        "  predicted_mbti_list = ['']*len(y_test)\n",
        "  for predicted_result in predicted_result_list:\n",
        "    for idx, ele in enumerate(predicted_result):\n",
        "      # print(idx, ele)\n",
        "      predicted_mbti_list[idx] += ele\n",
        "\n",
        "  # calculate accuracy\n",
        "  count = 0\n",
        "  for predicted, expected in zip(predicted_mbti_list, y_test['label_type']):\n",
        "    if predicted == expected:\n",
        "      count += 1\n",
        "  accuracy = round(count/len(predicted_mbti_list), 4)\n",
        "  print('Accuracy of NB: {}'.format(accuracy))\n",
        "\n",
        "  return predicted_mbti_list, accuracy"
      ],
      "metadata": {
        "id": "raZ5c9tmsZqm"
      },
      "id": "raZ5c9tmsZqm",
      "execution_count": 158,
      "outputs": []
    },
    {
      "cell_type": "code",
      "source": [
        "from sklearn.svm import SVC\n",
        "\n",
        "def SVMClassifier(x_train, y_train, x_test, y_test):\n",
        "  predicted_result_list = []\n",
        "  for label_category in label_categories:\n",
        "    expected_results = []\n",
        "    expected_results.extend(tfidf_y_test[label_category])\n",
        "    SVM_model = SVC(kernel='linear')\n",
        "    SVM_model.fit(x_train, y_train[label_category])\n",
        "    predicted_results = SVM_model.predict(x_test)\n",
        "    accuracy = round(metrics.accuracy_score(expected_results, predicted_results), 4)\n",
        "    print('Accuracy for {} classfier: {}'.format(label_category, accuracy))\n",
        "    # print(metrics.classification_report(expected_results, predicted_results))\n",
        "    predicted_result_list.append(predicted_results)\n",
        "  predicted_mbti_list = ['']*len(y_test)\n",
        "  for predicted_result in predicted_result_list:\n",
        "    for idx, ele in enumerate(predicted_result):\n",
        "      # print(idx, ele)\n",
        "      predicted_mbti_list[idx] += ele\n",
        "\n",
        "  # calculate accuracy\n",
        "  count = 0\n",
        "  for predicted, expected in zip(predicted_mbti_list, y_test['label_type']):\n",
        "    if predicted == expected:\n",
        "      count += 1\n",
        "  accuracy = round(count/len(predicted_mbti_list), 4)\n",
        "  print('Accuracy of SVM: {}'.format(accuracy))\n",
        "\n",
        "  return predicted_mbti_list, accuracy"
      ],
      "metadata": {
        "id": "mfDJdbzlsfJC"
      },
      "id": "mfDJdbzlsfJC",
      "execution_count": 159,
      "outputs": []
    },
    {
      "cell_type": "code",
      "source": [
        "from sklearn.ensemble import RandomForestClassifier\n",
        "\n",
        "def MyRandomForestClassifier(x_train, y_train, x_test, y_test):\n",
        "  predicted_result_list = []\n",
        "  for label_category in label_categories:\n",
        "    expected_results = []\n",
        "    expected_results.extend(tfidf_y_test[label_category])\n",
        "    RandomForest_model = RandomForestClassifier()\n",
        "    RandomForest_model.fit(x_train, y_train[label_category])\n",
        "    predicted_results = RandomForest_model.predict(x_test)\n",
        "    accuracy = round(metrics.accuracy_score(expected_results, predicted_results), 4)\n",
        "    print('Accuracy for {} classfier: {}'.format(label_category, accuracy))\n",
        "    # print(metrics.classification_report(expected_results, predicted_results))\n",
        "    predicted_result_list.append(predicted_results)\n",
        "  predicted_mbti_list = ['']*len(y_test)\n",
        "  for predicted_result in predicted_result_list:\n",
        "    for idx, ele in enumerate(predicted_result):\n",
        "      # print(idx, ele)\n",
        "      predicted_mbti_list[idx] += ele\n",
        "\n",
        "  # calculate accuracy\n",
        "  count = 0\n",
        "  for predicted, expected in zip(predicted_mbti_list, y_test['label_type']):\n",
        "    if predicted == expected:\n",
        "      count += 1\n",
        "  accuracy = round(count/len(predicted_mbti_list), 4)\n",
        "  print('Accuracy of RandomForest: {}'.format(accuracy))\n",
        "\n",
        "  return predicted_mbti_list, accuracy "
      ],
      "metadata": {
        "id": "hKHEDFwms9R5"
      },
      "id": "hKHEDFwms9R5",
      "execution_count": 160,
      "outputs": []
    },
    {
      "cell_type": "code",
      "source": [
        "from xgboost import XGBClassifier\n",
        "\n",
        "def MyXGBoostClassifier(x_train, y_train, x_test, y_test):\n",
        "  predicted_result_list = []\n",
        "  for label_category in label_categories:\n",
        "    expected_results = []\n",
        "    expected_results.extend(tfidf_y_test[label_category])\n",
        "    XGBoost_model = XGBClassifier(tree_method='gpu_hist')\n",
        "    XGBoost_model.fit(x_train, y_train[label_category])\n",
        "    predicted_results = XGBoost_model.predict(x_test)\n",
        "    accuracy = round(metrics.accuracy_score(expected_results, predicted_results), 4)\n",
        "    print('Accuracy for {} classfier: {}'.format(label_category, accuracy))\n",
        "    # print(metrics.classification_report(expected_results, predicted_results))\n",
        "    predicted_result_list.append(predicted_results)\n",
        "  predicted_mbti_list = ['']*len(y_test)\n",
        "  for predicted_result in predicted_result_list:\n",
        "    for idx, ele in enumerate(predicted_result):\n",
        "      # print(idx, ele)\n",
        "      predicted_mbti_list[idx] += ele\n",
        "\n",
        "  # calculate accuracy\n",
        "  count = 0\n",
        "  for predicted, expected in zip(predicted_mbti_list, y_test['label_type']):\n",
        "    if predicted == expected:\n",
        "      count += 1\n",
        "  accuracy = round(count/len(predicted_mbti_list), 4)\n",
        "  print('Accuracy of XGBoost: {}'.format(accuracy))\n",
        "\n",
        "  return predicted_mbti_list, accuracy"
      ],
      "metadata": {
        "id": "MsscdfkztGPn"
      },
      "id": "MsscdfkztGPn",
      "execution_count": 161,
      "outputs": []
    },
    {
      "cell_type": "markdown",
      "source": [
        "### TFIDF"
      ],
      "metadata": {
        "id": "faNjjC5-h-vo"
      },
      "id": "faNjjC5-h-vo"
    },
    {
      "cell_type": "code",
      "source": [
        "tfidf_df = tfidf_corpus.copy()\n",
        "tfidf_df['E/I'] = tfidf_df.apply(lambda row: extractEI(row), axis=1)\n",
        "tfidf_df['N/S'] = tfidf_df.apply(lambda row: extractNS(row), axis=1)\n",
        "tfidf_df['F/T'] = tfidf_df.apply(lambda row: extractFT(row), axis=1)\n",
        "tfidf_df['J/P'] = tfidf_df.apply(lambda row: extractJP(row), axis=1)"
      ],
      "metadata": {
        "id": "zrCMp2u7YNeE"
      },
      "id": "zrCMp2u7YNeE",
      "execution_count": 162,
      "outputs": []
    },
    {
      "cell_type": "code",
      "source": [
        "label_df = tfidf_df[['label_type', 'E/I', 'N/S', 'F/T', 'J/P']]\n",
        "label_categories = ['E/I', 'N/S', 'F/T', 'J/P']\n",
        "\n",
        "tfidf_df = tfidf_df.drop(['label_type', 'E/I', 'N/S', 'F/T', 'J/P'], axis=1)"
      ],
      "metadata": {
        "id": "eJwl-feAiXwd"
      },
      "id": "eJwl-feAiXwd",
      "execution_count": 163,
      "outputs": []
    },
    {
      "cell_type": "code",
      "source": [
        "from sklearn.model_selection import train_test_split\n",
        "\n",
        "tfidf_x_train, tfidf_x_test, tfidf_y_train, tfidf_y_test = train_test_split(tfidf_df, label_df, test_size=0.1, random_state=1024)"
      ],
      "metadata": {
        "id": "LVYt2wT9ifmm"
      },
      "id": "LVYt2wT9ifmm",
      "execution_count": 164,
      "outputs": []
    },
    {
      "cell_type": "code",
      "source": [
        "tfidf_accuracies_list = {}"
      ],
      "metadata": {
        "id": "sMEXbhX58aG1"
      },
      "id": "sMEXbhX58aG1",
      "execution_count": 165,
      "outputs": []
    },
    {
      "cell_type": "code",
      "source": [
        "KNN_result, accuracy = KNNClassifier(tfidf_x_train, tfidf_y_train, tfidf_x_test, tfidf_y_test)\n",
        "tfidf_accuracies_list['KNN'] = accuracy"
      ],
      "metadata": {
        "colab": {
          "base_uri": "https://localhost:8080/"
        },
        "id": "sbn08kAEmmpV",
        "outputId": "f65fc1a4-b9a0-438e-a046-00d5faaa1f04"
      },
      "id": "sbn08kAEmmpV",
      "execution_count": 166,
      "outputs": [
        {
          "output_type": "stream",
          "name": "stdout",
          "text": [
            "Accuracy for E/I classfier: 0.8376\n",
            "Accuracy for N/S classfier: 0.894\n",
            "Accuracy for F/T classfier: 0.6947\n",
            "Accuracy for J/P classfier: 0.7304\n",
            "Accuracy of KNN: 0.4366\n"
          ]
        }
      ]
    },
    {
      "cell_type": "code",
      "source": [
        "NB_result, accuracy = NBClassifier(tfidf_x_train, tfidf_y_train, tfidf_x_test, tfidf_y_test)\n",
        "tfidf_accuracies_list['NB'] = accuracy"
      ],
      "metadata": {
        "colab": {
          "base_uri": "https://localhost:8080/"
        },
        "id": "3EU_qcKWsZBT",
        "outputId": "21e7462e-6577-4abe-9464-1e18ab9785ee"
      },
      "id": "3EU_qcKWsZBT",
      "execution_count": 167,
      "outputs": [
        {
          "output_type": "stream",
          "name": "stdout",
          "text": [
            "Accuracy for E/I classfier: 0.7984\n",
            "Accuracy for N/S classfier: 0.879\n",
            "Accuracy for F/T classfier: 0.7903\n",
            "Accuracy for J/P classfier: 0.6429\n",
            "Accuracy of NB: 0.3399\n"
          ]
        }
      ]
    },
    {
      "cell_type": "code",
      "source": [
        "SVM_result, accuracy = SVMClassifier(tfidf_x_train, tfidf_y_train, tfidf_x_test, tfidf_y_test) # About 15mins\n",
        "tfidf_accuracies_list['SVM'] = accuracy"
      ],
      "metadata": {
        "colab": {
          "base_uri": "https://localhost:8080/"
        },
        "id": "FNl_DejVsuJm",
        "outputId": "28c4d60a-898a-41f8-bc76-5e98cdd6fc9c"
      },
      "id": "FNl_DejVsuJm",
      "execution_count": 168,
      "outputs": [
        {
          "output_type": "stream",
          "name": "stdout",
          "text": [
            "Accuracy for E/I classfier: 0.8629\n",
            "Accuracy for N/S classfier: 0.9217\n",
            "Accuracy for F/T classfier: 0.8698\n",
            "Accuracy for J/P classfier: 0.7915\n",
            "Accuracy of SVM: 0.591\n"
          ]
        }
      ]
    },
    {
      "cell_type": "code",
      "source": [
        "RandomForest_result, accuracy = MyRandomForestClassifier(tfidf_x_train, tfidf_y_train, tfidf_x_test, tfidf_y_test)\n",
        "tfidf_accuracies_list['RandomForest'] = accuracy"
      ],
      "metadata": {
        "colab": {
          "base_uri": "https://localhost:8080/"
        },
        "id": "j8yuQgVotSpr",
        "outputId": "7c1ecdb8-0920-48a2-ea5e-af3ab46d8b7e"
      },
      "id": "j8yuQgVotSpr",
      "execution_count": 169,
      "outputs": [
        {
          "output_type": "stream",
          "name": "stdout",
          "text": [
            "Accuracy for E/I classfier: 0.7995\n",
            "Accuracy for N/S classfier: 0.879\n",
            "Accuracy for F/T classfier: 0.7972\n",
            "Accuracy for J/P classfier: 0.7166\n",
            "Accuracy of RandomForest: 0.4078\n"
          ]
        }
      ]
    },
    {
      "cell_type": "code",
      "source": [
        "XGBoost_result, accuracy = MyXGBoostClassifier(tfidf_x_train, tfidf_y_train, tfidf_x_test, tfidf_y_test)\n",
        "tfidf_accuracies_list['XGBoost'] = accuracy"
      ],
      "metadata": {
        "colab": {
          "base_uri": "https://localhost:8080/"
        },
        "id": "X7X20uTbtXau",
        "outputId": "90ad743f-dff5-4c2f-aa0d-f2ba443e49b6"
      },
      "id": "X7X20uTbtXau",
      "execution_count": 170,
      "outputs": [
        {
          "output_type": "stream",
          "name": "stdout",
          "text": [
            "Accuracy for E/I classfier: 0.8664\n",
            "Accuracy for N/S classfier: 0.924\n",
            "Accuracy for F/T classfier: 0.8606\n",
            "Accuracy for J/P classfier: 0.7961\n",
            "Accuracy of XGBoost: 0.5979\n"
          ]
        }
      ]
    },
    {
      "cell_type": "code",
      "source": [
        "sorted_temp = sorted(tfidf_accuracies_list.items(), key=lambda x:x[1], reverse=True)\n",
        "sorted_dict = dict(sorted_temp)\n",
        "\n",
        "for model, accuracy in sorted_dict.items():\n",
        "  print('{:14s}: {}'. format(model, accuracy))"
      ],
      "metadata": {
        "colab": {
          "base_uri": "https://localhost:8080/"
        },
        "id": "dFrbPzRVAiXL",
        "outputId": "f6b5ccf2-d3ca-4ac0-dae7-f3f6c2596c28"
      },
      "id": "dFrbPzRVAiXL",
      "execution_count": 171,
      "outputs": [
        {
          "output_type": "stream",
          "name": "stdout",
          "text": [
            "XGBoost       : 0.5979\n",
            "SVM           : 0.591\n",
            "KNN           : 0.4366\n",
            "RandomForest  : 0.4078\n",
            "NB            : 0.3399\n"
          ]
        }
      ]
    },
    {
      "cell_type": "markdown",
      "source": [
        "### Word2Vec"
      ],
      "metadata": {
        "id": "MTe3OjCmiBgW"
      },
      "id": "MTe3OjCmiBgW"
    },
    {
      "cell_type": "code",
      "source": [
        "word2vec_df = word2vec_corpus.copy()\n",
        "word2vec_df['E/I'] = word2vec_df.apply(lambda row: extractEI(row), axis=1)\n",
        "word2vec_df['N/S'] = word2vec_df.apply(lambda row: extractNS(row), axis=1)\n",
        "word2vec_df['F/T'] = word2vec_df.apply(lambda row: extractFT(row), axis=1)\n",
        "word2vec_df['J/P'] = word2vec_df.apply(lambda row: extractJP(row), axis=1)"
      ],
      "metadata": {
        "id": "Onhd6qiHiJdf"
      },
      "id": "Onhd6qiHiJdf",
      "execution_count": 172,
      "outputs": []
    },
    {
      "cell_type": "code",
      "source": [
        "label_df = word2vec_df[['label_type', 'E/I', 'N/S', 'F/T', 'J/P']]\n",
        "label_categories = ['E/I', 'N/S', 'F/T', 'J/P']\n",
        "\n",
        "word2vec_df = word2vec_df.drop(['label_type', 'E/I', 'N/S', 'F/T', 'J/P'], axis=1)"
      ],
      "metadata": {
        "id": "ueqkUN14yINm"
      },
      "id": "ueqkUN14yINm",
      "execution_count": 173,
      "outputs": []
    },
    {
      "cell_type": "code",
      "source": [
        "word2vec_x_train, word2vec_x_test, word2vec_y_train, word2vec_y_test = train_test_split(word2vec_df, label_df, test_size=0.1, random_state=1024)"
      ],
      "metadata": {
        "id": "_17OZXm4ih5-"
      },
      "id": "_17OZXm4ih5-",
      "execution_count": 174,
      "outputs": []
    },
    {
      "cell_type": "code",
      "source": [
        "word2vec_accuracies_list = {}"
      ],
      "metadata": {
        "id": "odgf9JWEAtXi"
      },
      "id": "odgf9JWEAtXi",
      "execution_count": 175,
      "outputs": []
    },
    {
      "cell_type": "code",
      "source": [
        "KNN_result, accuracy = KNNClassifier(word2vec_x_train, word2vec_y_train, word2vec_x_test, word2vec_y_test)\n",
        "word2vec_accuracies_list['KNN'] = accuracy"
      ],
      "metadata": {
        "colab": {
          "base_uri": "https://localhost:8080/"
        },
        "id": "Eo3wY2FUtPc3",
        "outputId": "5b7f750e-7d0a-4515-ac19-d4a23e94cb72"
      },
      "id": "Eo3wY2FUtPc3",
      "execution_count": 176,
      "outputs": [
        {
          "output_type": "stream",
          "name": "stdout",
          "text": [
            "Accuracy for E/I classfier: 0.7915\n",
            "Accuracy for N/S classfier: 0.8767\n",
            "Accuracy for F/T classfier: 0.6947\n",
            "Accuracy for J/P classfier: 0.5922\n",
            "Accuracy of KNN: 0.2788\n"
          ]
        }
      ]
    },
    {
      "cell_type": "code",
      "source": [
        "NB_result, accuracy = NBClassifier(word2vec_x_train, word2vec_y_train, word2vec_x_test, word2vec_y_test)\n",
        "word2vec_accuracies_list['NB'] = accuracy"
      ],
      "metadata": {
        "colab": {
          "base_uri": "https://localhost:8080/",
          "height": 330
        },
        "id": "tHqNNkGztQiv",
        "outputId": "a27c0916-ab65-4574-979b-ee6ff6631474"
      },
      "id": "tHqNNkGztQiv",
      "execution_count": 177,
      "outputs": [
        {
          "output_type": "error",
          "ename": "ValueError",
          "evalue": "ignored",
          "traceback": [
            "\u001b[0;31m---------------------------------------------------------------------------\u001b[0m",
            "\u001b[0;31mValueError\u001b[0m                                Traceback (most recent call last)",
            "\u001b[0;32m<ipython-input-177-c1a6d0b067e9>\u001b[0m in \u001b[0;36m<module>\u001b[0;34m\u001b[0m\n\u001b[0;32m----> 1\u001b[0;31m \u001b[0mNB_result\u001b[0m\u001b[0;34m,\u001b[0m \u001b[0maccuracy\u001b[0m \u001b[0;34m=\u001b[0m \u001b[0mNBClassifier\u001b[0m\u001b[0;34m(\u001b[0m\u001b[0mword2vec_x_train\u001b[0m\u001b[0;34m,\u001b[0m \u001b[0mword2vec_y_train\u001b[0m\u001b[0;34m,\u001b[0m \u001b[0mword2vec_x_test\u001b[0m\u001b[0;34m,\u001b[0m \u001b[0mword2vec_y_test\u001b[0m\u001b[0;34m)\u001b[0m\u001b[0;34m\u001b[0m\u001b[0;34m\u001b[0m\u001b[0m\n\u001b[0m\u001b[1;32m      2\u001b[0m \u001b[0mword2vec_accuracies_list\u001b[0m\u001b[0;34m[\u001b[0m\u001b[0;34m'NB'\u001b[0m\u001b[0;34m]\u001b[0m \u001b[0;34m=\u001b[0m \u001b[0maccuracy\u001b[0m\u001b[0;34m\u001b[0m\u001b[0;34m\u001b[0m\u001b[0m\n",
            "\u001b[0;32m<ipython-input-158-c615500dd51a>\u001b[0m in \u001b[0;36mNBClassifier\u001b[0;34m(x_train, y_train, x_test, y_test)\u001b[0m\n\u001b[1;32m      7\u001b[0m     \u001b[0mexpected_results\u001b[0m\u001b[0;34m.\u001b[0m\u001b[0mextend\u001b[0m\u001b[0;34m(\u001b[0m\u001b[0mtfidf_y_test\u001b[0m\u001b[0;34m[\u001b[0m\u001b[0mlabel_category\u001b[0m\u001b[0;34m]\u001b[0m\u001b[0;34m)\u001b[0m\u001b[0;34m\u001b[0m\u001b[0;34m\u001b[0m\u001b[0m\n\u001b[1;32m      8\u001b[0m     \u001b[0mNB_model\u001b[0m \u001b[0;34m=\u001b[0m \u001b[0mMultinomialNB\u001b[0m\u001b[0;34m(\u001b[0m\u001b[0;34m)\u001b[0m\u001b[0;34m\u001b[0m\u001b[0;34m\u001b[0m\u001b[0m\n\u001b[0;32m----> 9\u001b[0;31m     \u001b[0mNB_model\u001b[0m\u001b[0;34m.\u001b[0m\u001b[0mfit\u001b[0m\u001b[0;34m(\u001b[0m\u001b[0mx_train\u001b[0m\u001b[0;34m,\u001b[0m \u001b[0my_train\u001b[0m\u001b[0;34m[\u001b[0m\u001b[0mlabel_category\u001b[0m\u001b[0;34m]\u001b[0m\u001b[0;34m)\u001b[0m\u001b[0;34m\u001b[0m\u001b[0;34m\u001b[0m\u001b[0m\n\u001b[0m\u001b[1;32m     10\u001b[0m     \u001b[0mpredicted_results\u001b[0m \u001b[0;34m=\u001b[0m \u001b[0mNB_model\u001b[0m\u001b[0;34m.\u001b[0m\u001b[0mpredict\u001b[0m\u001b[0;34m(\u001b[0m\u001b[0mx_test\u001b[0m\u001b[0;34m)\u001b[0m\u001b[0;34m\u001b[0m\u001b[0;34m\u001b[0m\u001b[0m\n\u001b[1;32m     11\u001b[0m     \u001b[0maccuracy\u001b[0m \u001b[0;34m=\u001b[0m \u001b[0mround\u001b[0m\u001b[0;34m(\u001b[0m\u001b[0mmetrics\u001b[0m\u001b[0;34m.\u001b[0m\u001b[0maccuracy_score\u001b[0m\u001b[0;34m(\u001b[0m\u001b[0mexpected_results\u001b[0m\u001b[0;34m,\u001b[0m \u001b[0mpredicted_results\u001b[0m\u001b[0;34m)\u001b[0m\u001b[0;34m,\u001b[0m \u001b[0;36m4\u001b[0m\u001b[0;34m)\u001b[0m\u001b[0;34m\u001b[0m\u001b[0;34m\u001b[0m\u001b[0m\n",
            "\u001b[0;32m/usr/local/lib/python3.8/dist-packages/sklearn/naive_bayes.py\u001b[0m in \u001b[0;36mfit\u001b[0;34m(self, X, y, sample_weight)\u001b[0m\n\u001b[1;32m    688\u001b[0m         \u001b[0mn_classes\u001b[0m \u001b[0;34m=\u001b[0m \u001b[0mY\u001b[0m\u001b[0;34m.\u001b[0m\u001b[0mshape\u001b[0m\u001b[0;34m[\u001b[0m\u001b[0;36m1\u001b[0m\u001b[0;34m]\u001b[0m\u001b[0;34m\u001b[0m\u001b[0;34m\u001b[0m\u001b[0m\n\u001b[1;32m    689\u001b[0m         \u001b[0mself\u001b[0m\u001b[0;34m.\u001b[0m\u001b[0m_init_counters\u001b[0m\u001b[0;34m(\u001b[0m\u001b[0mn_classes\u001b[0m\u001b[0;34m,\u001b[0m \u001b[0mn_features\u001b[0m\u001b[0;34m)\u001b[0m\u001b[0;34m\u001b[0m\u001b[0;34m\u001b[0m\u001b[0m\n\u001b[0;32m--> 690\u001b[0;31m         \u001b[0mself\u001b[0m\u001b[0;34m.\u001b[0m\u001b[0m_count\u001b[0m\u001b[0;34m(\u001b[0m\u001b[0mX\u001b[0m\u001b[0;34m,\u001b[0m \u001b[0mY\u001b[0m\u001b[0;34m)\u001b[0m\u001b[0;34m\u001b[0m\u001b[0;34m\u001b[0m\u001b[0m\n\u001b[0m\u001b[1;32m    691\u001b[0m         \u001b[0malpha\u001b[0m \u001b[0;34m=\u001b[0m \u001b[0mself\u001b[0m\u001b[0;34m.\u001b[0m\u001b[0m_check_alpha\u001b[0m\u001b[0;34m(\u001b[0m\u001b[0;34m)\u001b[0m\u001b[0;34m\u001b[0m\u001b[0;34m\u001b[0m\u001b[0m\n\u001b[1;32m    692\u001b[0m         \u001b[0mself\u001b[0m\u001b[0;34m.\u001b[0m\u001b[0m_update_feature_log_prob\u001b[0m\u001b[0;34m(\u001b[0m\u001b[0malpha\u001b[0m\u001b[0;34m)\u001b[0m\u001b[0;34m\u001b[0m\u001b[0;34m\u001b[0m\u001b[0m\n",
            "\u001b[0;32m/usr/local/lib/python3.8/dist-packages/sklearn/naive_bayes.py\u001b[0m in \u001b[0;36m_count\u001b[0;34m(self, X, Y)\u001b[0m\n\u001b[1;32m    861\u001b[0m     \u001b[0;32mdef\u001b[0m \u001b[0m_count\u001b[0m\u001b[0;34m(\u001b[0m\u001b[0mself\u001b[0m\u001b[0;34m,\u001b[0m \u001b[0mX\u001b[0m\u001b[0;34m,\u001b[0m \u001b[0mY\u001b[0m\u001b[0;34m)\u001b[0m\u001b[0;34m:\u001b[0m\u001b[0;34m\u001b[0m\u001b[0;34m\u001b[0m\u001b[0m\n\u001b[1;32m    862\u001b[0m         \u001b[0;34m\"\"\"Count and smooth feature occurrences.\"\"\"\u001b[0m\u001b[0;34m\u001b[0m\u001b[0;34m\u001b[0m\u001b[0m\n\u001b[0;32m--> 863\u001b[0;31m         \u001b[0mcheck_non_negative\u001b[0m\u001b[0;34m(\u001b[0m\u001b[0mX\u001b[0m\u001b[0;34m,\u001b[0m \u001b[0;34m\"MultinomialNB (input X)\"\u001b[0m\u001b[0;34m)\u001b[0m\u001b[0;34m\u001b[0m\u001b[0;34m\u001b[0m\u001b[0m\n\u001b[0m\u001b[1;32m    864\u001b[0m         \u001b[0mself\u001b[0m\u001b[0;34m.\u001b[0m\u001b[0mfeature_count_\u001b[0m \u001b[0;34m+=\u001b[0m \u001b[0msafe_sparse_dot\u001b[0m\u001b[0;34m(\u001b[0m\u001b[0mY\u001b[0m\u001b[0;34m.\u001b[0m\u001b[0mT\u001b[0m\u001b[0;34m,\u001b[0m \u001b[0mX\u001b[0m\u001b[0;34m)\u001b[0m\u001b[0;34m\u001b[0m\u001b[0;34m\u001b[0m\u001b[0m\n\u001b[1;32m    865\u001b[0m         \u001b[0mself\u001b[0m\u001b[0;34m.\u001b[0m\u001b[0mclass_count_\u001b[0m \u001b[0;34m+=\u001b[0m \u001b[0mY\u001b[0m\u001b[0;34m.\u001b[0m\u001b[0msum\u001b[0m\u001b[0;34m(\u001b[0m\u001b[0maxis\u001b[0m\u001b[0;34m=\u001b[0m\u001b[0;36m0\u001b[0m\u001b[0;34m)\u001b[0m\u001b[0;34m\u001b[0m\u001b[0;34m\u001b[0m\u001b[0m\n",
            "\u001b[0;32m/usr/local/lib/python3.8/dist-packages/sklearn/utils/validation.py\u001b[0m in \u001b[0;36mcheck_non_negative\u001b[0;34m(X, whom)\u001b[0m\n\u001b[1;32m   1247\u001b[0m \u001b[0;34m\u001b[0m\u001b[0m\n\u001b[1;32m   1248\u001b[0m     \u001b[0;32mif\u001b[0m \u001b[0mX_min\u001b[0m \u001b[0;34m<\u001b[0m \u001b[0;36m0\u001b[0m\u001b[0;34m:\u001b[0m\u001b[0;34m\u001b[0m\u001b[0;34m\u001b[0m\u001b[0m\n\u001b[0;32m-> 1249\u001b[0;31m         \u001b[0;32mraise\u001b[0m \u001b[0mValueError\u001b[0m\u001b[0;34m(\u001b[0m\u001b[0;34m\"Negative values in data passed to %s\"\u001b[0m \u001b[0;34m%\u001b[0m \u001b[0mwhom\u001b[0m\u001b[0;34m)\u001b[0m\u001b[0;34m\u001b[0m\u001b[0;34m\u001b[0m\u001b[0m\n\u001b[0m\u001b[1;32m   1250\u001b[0m \u001b[0;34m\u001b[0m\u001b[0m\n\u001b[1;32m   1251\u001b[0m \u001b[0;34m\u001b[0m\u001b[0m\n",
            "\u001b[0;31mValueError\u001b[0m: Negative values in data passed to MultinomialNB (input X)"
          ]
        }
      ]
    },
    {
      "cell_type": "code",
      "source": [
        "SVM_result, accuracy = SVMClassifier(word2vec_x_train, word2vec_y_train, word2vec_x_test, word2vec_y_test)\n",
        "word2vec_accuracies_list['SVM'] = accuracy"
      ],
      "metadata": {
        "colab": {
          "base_uri": "https://localhost:8080/"
        },
        "id": "Dvx0TmpCtRXt",
        "outputId": "d8942fe3-ed66-46e0-971c-875dcf8ad216"
      },
      "id": "Dvx0TmpCtRXt",
      "execution_count": 178,
      "outputs": [
        {
          "output_type": "stream",
          "name": "stdout",
          "text": [
            "Accuracy for E/I classfier: 0.7972\n",
            "Accuracy for N/S classfier: 0.8779\n",
            "Accuracy for F/T classfier: 0.7592\n",
            "Accuracy for J/P classfier: 0.6106\n",
            "Accuracy of SVM: 0.3041\n"
          ]
        }
      ]
    },
    {
      "cell_type": "code",
      "source": [
        "RandomForest_result, accuracy = MyRandomForestClassifier(word2vec_x_train, word2vec_y_train, word2vec_x_test, word2vec_y_test)\n",
        "word2vec_accuracies_list['RandomForest'] = accuracy"
      ],
      "metadata": {
        "colab": {
          "base_uri": "https://localhost:8080/"
        },
        "id": "DH4AdWcLtctd",
        "outputId": "f026a5ed-001e-41e4-c141-7ca0d5a5e13b"
      },
      "id": "DH4AdWcLtctd",
      "execution_count": 179,
      "outputs": [
        {
          "output_type": "stream",
          "name": "stdout",
          "text": [
            "Accuracy for E/I classfier: 0.7903\n",
            "Accuracy for N/S classfier: 0.8744\n",
            "Accuracy for F/T classfier: 0.7304\n",
            "Accuracy for J/P classfier: 0.5945\n",
            "Accuracy of RandomForest: 0.2972\n"
          ]
        }
      ]
    },
    {
      "cell_type": "code",
      "source": [
        "XGBoost_result, accuracy = MyXGBoostClassifier(word2vec_x_train, word2vec_y_train, word2vec_x_test, word2vec_y_test)\n",
        "word2vec_accuracies_list['XGBoost'] = accuracy"
      ],
      "metadata": {
        "colab": {
          "base_uri": "https://localhost:8080/"
        },
        "id": "YVSy_wGCtdf4",
        "outputId": "9731c703-b4e3-4890-9e07-2739312a067c"
      },
      "id": "YVSy_wGCtdf4",
      "execution_count": 180,
      "outputs": [
        {
          "output_type": "stream",
          "name": "stdout",
          "text": [
            "Accuracy for E/I classfier: 0.7938\n",
            "Accuracy for N/S classfier: 0.8767\n",
            "Accuracy for F/T classfier: 0.7465\n",
            "Accuracy for J/P classfier: 0.6221\n",
            "Accuracy of XGBoost: 0.3007\n"
          ]
        }
      ]
    },
    {
      "cell_type": "code",
      "source": [
        "sorted_temp = sorted(word2vec_accuracies_list.items(), key=lambda x:x[1], reverse=True)\n",
        "sorted_dict = dict(sorted_temp)\n",
        "\n",
        "for model, accuracy in sorted_dict.items():\n",
        "  print('{:14s}: {}'. format(model, accuracy))"
      ],
      "metadata": {
        "colab": {
          "base_uri": "https://localhost:8080/"
        },
        "id": "FXXg2hBbAo2T",
        "outputId": "8e9b8afb-c8bb-4da4-fc40-5e7f0ce16132"
      },
      "id": "FXXg2hBbAo2T",
      "execution_count": 181,
      "outputs": [
        {
          "output_type": "stream",
          "name": "stdout",
          "text": [
            "SVM           : 0.3041\n",
            "XGBoost       : 0.3007\n",
            "RandomForest  : 0.2972\n",
            "KNN           : 0.2788\n"
          ]
        }
      ]
    },
    {
      "cell_type": "markdown",
      "source": [
        "### BERT"
      ],
      "metadata": {
        "id": "9NgzoJLeiC-0"
      },
      "id": "9NgzoJLeiC-0"
    },
    {
      "cell_type": "code",
      "source": [
        "bert_df = bert_corpus.copy()\n",
        "bert_df['E/I'] = bert_df.apply(lambda row: extractEI(row), axis=1)\n",
        "bert_df['N/S'] = bert_df.apply(lambda row: extractNS(row), axis=1)\n",
        "bert_df['F/T'] = bert_df.apply(lambda row: extractFT(row), axis=1)\n",
        "bert_df['J/P'] = bert_df.apply(lambda row: extractJP(row), axis=1)"
      ],
      "metadata": {
        "id": "NpYhtwUyiEDQ"
      },
      "id": "NpYhtwUyiEDQ",
      "execution_count": 182,
      "outputs": []
    },
    {
      "cell_type": "code",
      "source": [
        "label_df = bert_df[['label_type', 'E/I', 'N/S', 'F/T', 'J/P']]\n",
        "label_categories = ['E/I', 'N/S', 'F/T', 'J/P']\n",
        "\n",
        "bert_df = bert_df.drop(['label_type', 'E/I', 'N/S', 'F/T', 'J/P'], axis=1)"
      ],
      "metadata": {
        "id": "oei_xhPzirXI"
      },
      "id": "oei_xhPzirXI",
      "execution_count": 183,
      "outputs": []
    },
    {
      "cell_type": "code",
      "source": [
        "bert_x_train, bert_x_test, bert_y_train, bert_y_test = train_test_split(bert_df, label_df, test_size=0.1, random_state=1024)"
      ],
      "metadata": {
        "id": "_m2euAbXiryk"
      },
      "id": "_m2euAbXiryk",
      "execution_count": 184,
      "outputs": []
    },
    {
      "cell_type": "code",
      "source": [
        "bert_accuracies_list = {}"
      ],
      "metadata": {
        "id": "uDyFpczzBEjZ"
      },
      "id": "uDyFpczzBEjZ",
      "execution_count": 185,
      "outputs": []
    },
    {
      "cell_type": "code",
      "source": [
        "KNN_result, accuracy = KNNClassifier(bert_x_train, bert_y_train, bert_x_test, bert_y_test)\n",
        "bert_accuracies_list['KNN'] = accuracy"
      ],
      "metadata": {
        "colab": {
          "base_uri": "https://localhost:8080/"
        },
        "id": "V6hMqoVNtv_2",
        "outputId": "5fa3df74-b432-4270-9404-4d844aa01622"
      },
      "id": "V6hMqoVNtv_2",
      "execution_count": 186,
      "outputs": [
        {
          "output_type": "stream",
          "name": "stdout",
          "text": [
            "Accuracy for E/I classfier: 0.7926\n",
            "Accuracy for N/S classfier: 0.8779\n",
            "Accuracy for F/T classfier: 0.6613\n",
            "Accuracy for J/P classfier: 0.6164\n",
            "Accuracy of KNN: 0.2995\n"
          ]
        }
      ]
    },
    {
      "cell_type": "code",
      "source": [
        "NB_result, accuracy = NBClassifier(bert_x_train, bert_y_train, bert_x_test, bert_y_test)\n",
        "bert_accuracies_list['NB'] = accuracy"
      ],
      "metadata": {
        "colab": {
          "base_uri": "https://localhost:8080/",
          "height": 330
        },
        "id": "H7OkRDUDtgES",
        "outputId": "1a9db97b-f2e3-4afe-fd0c-0c821677c837"
      },
      "id": "H7OkRDUDtgES",
      "execution_count": 187,
      "outputs": [
        {
          "output_type": "error",
          "ename": "ValueError",
          "evalue": "ignored",
          "traceback": [
            "\u001b[0;31m---------------------------------------------------------------------------\u001b[0m",
            "\u001b[0;31mValueError\u001b[0m                                Traceback (most recent call last)",
            "\u001b[0;32m<ipython-input-187-e925d60ae377>\u001b[0m in \u001b[0;36m<module>\u001b[0;34m\u001b[0m\n\u001b[0;32m----> 1\u001b[0;31m \u001b[0mNB_result\u001b[0m\u001b[0;34m,\u001b[0m \u001b[0maccuracy\u001b[0m \u001b[0;34m=\u001b[0m \u001b[0mNBClassifier\u001b[0m\u001b[0;34m(\u001b[0m\u001b[0mbert_x_train\u001b[0m\u001b[0;34m,\u001b[0m \u001b[0mbert_y_train\u001b[0m\u001b[0;34m,\u001b[0m \u001b[0mbert_x_test\u001b[0m\u001b[0;34m,\u001b[0m \u001b[0mbert_y_test\u001b[0m\u001b[0;34m)\u001b[0m\u001b[0;34m\u001b[0m\u001b[0;34m\u001b[0m\u001b[0m\n\u001b[0m\u001b[1;32m      2\u001b[0m \u001b[0mbert_accuracies_list\u001b[0m\u001b[0;34m[\u001b[0m\u001b[0;34m'NB'\u001b[0m\u001b[0;34m]\u001b[0m \u001b[0;34m=\u001b[0m \u001b[0maccuracy\u001b[0m\u001b[0;34m\u001b[0m\u001b[0;34m\u001b[0m\u001b[0m\n",
            "\u001b[0;32m<ipython-input-158-c615500dd51a>\u001b[0m in \u001b[0;36mNBClassifier\u001b[0;34m(x_train, y_train, x_test, y_test)\u001b[0m\n\u001b[1;32m      7\u001b[0m     \u001b[0mexpected_results\u001b[0m\u001b[0;34m.\u001b[0m\u001b[0mextend\u001b[0m\u001b[0;34m(\u001b[0m\u001b[0mtfidf_y_test\u001b[0m\u001b[0;34m[\u001b[0m\u001b[0mlabel_category\u001b[0m\u001b[0;34m]\u001b[0m\u001b[0;34m)\u001b[0m\u001b[0;34m\u001b[0m\u001b[0;34m\u001b[0m\u001b[0m\n\u001b[1;32m      8\u001b[0m     \u001b[0mNB_model\u001b[0m \u001b[0;34m=\u001b[0m \u001b[0mMultinomialNB\u001b[0m\u001b[0;34m(\u001b[0m\u001b[0;34m)\u001b[0m\u001b[0;34m\u001b[0m\u001b[0;34m\u001b[0m\u001b[0m\n\u001b[0;32m----> 9\u001b[0;31m     \u001b[0mNB_model\u001b[0m\u001b[0;34m.\u001b[0m\u001b[0mfit\u001b[0m\u001b[0;34m(\u001b[0m\u001b[0mx_train\u001b[0m\u001b[0;34m,\u001b[0m \u001b[0my_train\u001b[0m\u001b[0;34m[\u001b[0m\u001b[0mlabel_category\u001b[0m\u001b[0;34m]\u001b[0m\u001b[0;34m)\u001b[0m\u001b[0;34m\u001b[0m\u001b[0;34m\u001b[0m\u001b[0m\n\u001b[0m\u001b[1;32m     10\u001b[0m     \u001b[0mpredicted_results\u001b[0m \u001b[0;34m=\u001b[0m \u001b[0mNB_model\u001b[0m\u001b[0;34m.\u001b[0m\u001b[0mpredict\u001b[0m\u001b[0;34m(\u001b[0m\u001b[0mx_test\u001b[0m\u001b[0;34m)\u001b[0m\u001b[0;34m\u001b[0m\u001b[0;34m\u001b[0m\u001b[0m\n\u001b[1;32m     11\u001b[0m     \u001b[0maccuracy\u001b[0m \u001b[0;34m=\u001b[0m \u001b[0mround\u001b[0m\u001b[0;34m(\u001b[0m\u001b[0mmetrics\u001b[0m\u001b[0;34m.\u001b[0m\u001b[0maccuracy_score\u001b[0m\u001b[0;34m(\u001b[0m\u001b[0mexpected_results\u001b[0m\u001b[0;34m,\u001b[0m \u001b[0mpredicted_results\u001b[0m\u001b[0;34m)\u001b[0m\u001b[0;34m,\u001b[0m \u001b[0;36m4\u001b[0m\u001b[0;34m)\u001b[0m\u001b[0;34m\u001b[0m\u001b[0;34m\u001b[0m\u001b[0m\n",
            "\u001b[0;32m/usr/local/lib/python3.8/dist-packages/sklearn/naive_bayes.py\u001b[0m in \u001b[0;36mfit\u001b[0;34m(self, X, y, sample_weight)\u001b[0m\n\u001b[1;32m    688\u001b[0m         \u001b[0mn_classes\u001b[0m \u001b[0;34m=\u001b[0m \u001b[0mY\u001b[0m\u001b[0;34m.\u001b[0m\u001b[0mshape\u001b[0m\u001b[0;34m[\u001b[0m\u001b[0;36m1\u001b[0m\u001b[0;34m]\u001b[0m\u001b[0;34m\u001b[0m\u001b[0;34m\u001b[0m\u001b[0m\n\u001b[1;32m    689\u001b[0m         \u001b[0mself\u001b[0m\u001b[0;34m.\u001b[0m\u001b[0m_init_counters\u001b[0m\u001b[0;34m(\u001b[0m\u001b[0mn_classes\u001b[0m\u001b[0;34m,\u001b[0m \u001b[0mn_features\u001b[0m\u001b[0;34m)\u001b[0m\u001b[0;34m\u001b[0m\u001b[0;34m\u001b[0m\u001b[0m\n\u001b[0;32m--> 690\u001b[0;31m         \u001b[0mself\u001b[0m\u001b[0;34m.\u001b[0m\u001b[0m_count\u001b[0m\u001b[0;34m(\u001b[0m\u001b[0mX\u001b[0m\u001b[0;34m,\u001b[0m \u001b[0mY\u001b[0m\u001b[0;34m)\u001b[0m\u001b[0;34m\u001b[0m\u001b[0;34m\u001b[0m\u001b[0m\n\u001b[0m\u001b[1;32m    691\u001b[0m         \u001b[0malpha\u001b[0m \u001b[0;34m=\u001b[0m \u001b[0mself\u001b[0m\u001b[0;34m.\u001b[0m\u001b[0m_check_alpha\u001b[0m\u001b[0;34m(\u001b[0m\u001b[0;34m)\u001b[0m\u001b[0;34m\u001b[0m\u001b[0;34m\u001b[0m\u001b[0m\n\u001b[1;32m    692\u001b[0m         \u001b[0mself\u001b[0m\u001b[0;34m.\u001b[0m\u001b[0m_update_feature_log_prob\u001b[0m\u001b[0;34m(\u001b[0m\u001b[0malpha\u001b[0m\u001b[0;34m)\u001b[0m\u001b[0;34m\u001b[0m\u001b[0;34m\u001b[0m\u001b[0m\n",
            "\u001b[0;32m/usr/local/lib/python3.8/dist-packages/sklearn/naive_bayes.py\u001b[0m in \u001b[0;36m_count\u001b[0;34m(self, X, Y)\u001b[0m\n\u001b[1;32m    861\u001b[0m     \u001b[0;32mdef\u001b[0m \u001b[0m_count\u001b[0m\u001b[0;34m(\u001b[0m\u001b[0mself\u001b[0m\u001b[0;34m,\u001b[0m \u001b[0mX\u001b[0m\u001b[0;34m,\u001b[0m \u001b[0mY\u001b[0m\u001b[0;34m)\u001b[0m\u001b[0;34m:\u001b[0m\u001b[0;34m\u001b[0m\u001b[0;34m\u001b[0m\u001b[0m\n\u001b[1;32m    862\u001b[0m         \u001b[0;34m\"\"\"Count and smooth feature occurrences.\"\"\"\u001b[0m\u001b[0;34m\u001b[0m\u001b[0;34m\u001b[0m\u001b[0m\n\u001b[0;32m--> 863\u001b[0;31m         \u001b[0mcheck_non_negative\u001b[0m\u001b[0;34m(\u001b[0m\u001b[0mX\u001b[0m\u001b[0;34m,\u001b[0m \u001b[0;34m\"MultinomialNB (input X)\"\u001b[0m\u001b[0;34m)\u001b[0m\u001b[0;34m\u001b[0m\u001b[0;34m\u001b[0m\u001b[0m\n\u001b[0m\u001b[1;32m    864\u001b[0m         \u001b[0mself\u001b[0m\u001b[0;34m.\u001b[0m\u001b[0mfeature_count_\u001b[0m \u001b[0;34m+=\u001b[0m \u001b[0msafe_sparse_dot\u001b[0m\u001b[0;34m(\u001b[0m\u001b[0mY\u001b[0m\u001b[0;34m.\u001b[0m\u001b[0mT\u001b[0m\u001b[0;34m,\u001b[0m \u001b[0mX\u001b[0m\u001b[0;34m)\u001b[0m\u001b[0;34m\u001b[0m\u001b[0;34m\u001b[0m\u001b[0m\n\u001b[1;32m    865\u001b[0m         \u001b[0mself\u001b[0m\u001b[0;34m.\u001b[0m\u001b[0mclass_count_\u001b[0m \u001b[0;34m+=\u001b[0m \u001b[0mY\u001b[0m\u001b[0;34m.\u001b[0m\u001b[0msum\u001b[0m\u001b[0;34m(\u001b[0m\u001b[0maxis\u001b[0m\u001b[0;34m=\u001b[0m\u001b[0;36m0\u001b[0m\u001b[0;34m)\u001b[0m\u001b[0;34m\u001b[0m\u001b[0;34m\u001b[0m\u001b[0m\n",
            "\u001b[0;32m/usr/local/lib/python3.8/dist-packages/sklearn/utils/validation.py\u001b[0m in \u001b[0;36mcheck_non_negative\u001b[0;34m(X, whom)\u001b[0m\n\u001b[1;32m   1247\u001b[0m \u001b[0;34m\u001b[0m\u001b[0m\n\u001b[1;32m   1248\u001b[0m     \u001b[0;32mif\u001b[0m \u001b[0mX_min\u001b[0m \u001b[0;34m<\u001b[0m \u001b[0;36m0\u001b[0m\u001b[0;34m:\u001b[0m\u001b[0;34m\u001b[0m\u001b[0;34m\u001b[0m\u001b[0m\n\u001b[0;32m-> 1249\u001b[0;31m         \u001b[0;32mraise\u001b[0m \u001b[0mValueError\u001b[0m\u001b[0;34m(\u001b[0m\u001b[0;34m\"Negative values in data passed to %s\"\u001b[0m \u001b[0;34m%\u001b[0m \u001b[0mwhom\u001b[0m\u001b[0;34m)\u001b[0m\u001b[0;34m\u001b[0m\u001b[0;34m\u001b[0m\u001b[0m\n\u001b[0m\u001b[1;32m   1250\u001b[0m \u001b[0;34m\u001b[0m\u001b[0m\n\u001b[1;32m   1251\u001b[0m \u001b[0;34m\u001b[0m\u001b[0m\n",
            "\u001b[0;31mValueError\u001b[0m: Negative values in data passed to MultinomialNB (input X)"
          ]
        }
      ]
    },
    {
      "cell_type": "code",
      "source": [
        "SVM_result, accuracy = SVMClassifier(bert_x_train, bert_y_train, bert_x_test, bert_y_test)\n",
        "bert_accuracies_list['SVM'] = accuracy"
      ],
      "metadata": {
        "colab": {
          "base_uri": "https://localhost:8080/"
        },
        "id": "VgwA_0-atf7I",
        "outputId": "985a4b68-5184-4040-9153-7a6a02f1c6df"
      },
      "id": "VgwA_0-atf7I",
      "execution_count": 188,
      "outputs": [
        {
          "output_type": "stream",
          "name": "stdout",
          "text": [
            "Accuracy for E/I classfier: 0.7984\n",
            "Accuracy for N/S classfier: 0.8744\n",
            "Accuracy for F/T classfier: 0.7465\n",
            "Accuracy for J/P classfier: 0.6774\n",
            "Accuracy of SVM: 0.3641\n"
          ]
        }
      ]
    },
    {
      "cell_type": "code",
      "source": [
        "RandomForest_result, accuracy = MyRandomForestClassifier(bert_x_train, bert_y_train, bert_x_test, bert_y_test)\n",
        "bert_accuracies_list['RandomForest'] = accuracy"
      ],
      "metadata": {
        "colab": {
          "base_uri": "https://localhost:8080/"
        },
        "id": "3-2MEJQ4tfs4",
        "outputId": "498a877f-1803-4b54-aa5e-f1f21210aeb8"
      },
      "id": "3-2MEJQ4tfs4",
      "execution_count": 189,
      "outputs": [
        {
          "output_type": "stream",
          "name": "stdout",
          "text": [
            "Accuracy for E/I classfier: 0.8007\n",
            "Accuracy for N/S classfier: 0.8767\n",
            "Accuracy for F/T classfier: 0.6993\n",
            "Accuracy for J/P classfier: 0.6452\n",
            "Accuracy of RandomForest: 0.318\n"
          ]
        }
      ]
    },
    {
      "cell_type": "code",
      "source": [
        "XGBoost_result, accuracy = MyXGBoostClassifier(bert_x_train, bert_y_train, bert_x_test, bert_y_test)\n",
        "bert_accuracies_list['XGBoost'] = accuracy"
      ],
      "metadata": {
        "colab": {
          "base_uri": "https://localhost:8080/"
        },
        "id": "Cv4SfCeItfQB",
        "outputId": "9c9d54ad-1b7f-485e-c274-b3e7d4a71b78"
      },
      "id": "Cv4SfCeItfQB",
      "execution_count": 190,
      "outputs": [
        {
          "output_type": "stream",
          "name": "stdout",
          "text": [
            "Accuracy for E/I classfier: 0.8099\n",
            "Accuracy for N/S classfier: 0.8767\n",
            "Accuracy for F/T classfier: 0.7074\n",
            "Accuracy for J/P classfier: 0.6636\n",
            "Accuracy of XGBoost: 0.3237\n"
          ]
        }
      ]
    },
    {
      "cell_type": "code",
      "source": [
        "sorted_temp = sorted(bert_accuracies_list.items(), key=lambda x:x[1], reverse=True)\n",
        "sorted_dict = dict(sorted_temp)\n",
        "\n",
        "for model, accuracy in sorted_dict.items():\n",
        "  print('{:14s}: {}'. format(model, accuracy))"
      ],
      "metadata": {
        "colab": {
          "base_uri": "https://localhost:8080/"
        },
        "id": "CKJ8RPnNBCEL",
        "outputId": "539ad4b4-1e98-4c26-ed7d-e246a66c0eec"
      },
      "id": "CKJ8RPnNBCEL",
      "execution_count": 191,
      "outputs": [
        {
          "output_type": "stream",
          "name": "stdout",
          "text": [
            "SVM           : 0.3641\n",
            "XGBoost       : 0.3237\n",
            "RandomForest  : 0.318\n",
            "KNN           : 0.2995\n"
          ]
        }
      ]
    }
  ],
  "metadata": {
    "kernelspec": {
      "display_name": "Python 3 (ipykernel)",
      "language": "python",
      "name": "python3"
    },
    "language_info": {
      "codemirror_mode": {
        "name": "ipython",
        "version": 3
      },
      "file_extension": ".py",
      "mimetype": "text/x-python",
      "name": "python",
      "nbconvert_exporter": "python",
      "pygments_lexer": "ipython3",
      "version": "3.8.8"
    },
    "colab": {
      "provenance": [],
      "toc_visible": true
    },
    "accelerator": "GPU",
    "gpuClass": "standard"
  },
  "nbformat": 4,
  "nbformat_minor": 5
}